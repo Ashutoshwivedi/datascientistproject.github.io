{
  "cells": [
    {
      "cell_type": "code",
      "execution_count": null,
      "metadata": {
        "colab": {
          "base_uri": "https://localhost:8080/"
        },
        "id": "moB4tpEHxKB3",
        "outputId": "de1b3233-98e8-45fe-c570-597bde15eacd"
      },
      "outputs": [
        {
          "output_type": "stream",
          "name": "stdout",
          "text": [
            "Collecting git+https://github.com/tensorflow/docs\n",
            "  Cloning https://github.com/tensorflow/docs to /tmp/pip-req-build-lzywle9f\n",
            "  Running command git clone -q https://github.com/tensorflow/docs /tmp/pip-req-build-lzywle9f\n",
            "Requirement already satisfied: astor in /usr/local/lib/python3.7/dist-packages (from tensorflow-docs==0.0.0.dev0) (0.8.1)\n",
            "Requirement already satisfied: absl-py in /usr/local/lib/python3.7/dist-packages (from tensorflow-docs==0.0.0.dev0) (1.0.0)\n",
            "Requirement already satisfied: jinja2 in /usr/local/lib/python3.7/dist-packages (from tensorflow-docs==0.0.0.dev0) (2.11.3)\n",
            "Requirement already satisfied: protobuf>=3.14 in /usr/local/lib/python3.7/dist-packages (from tensorflow-docs==0.0.0.dev0) (3.17.3)\n",
            "Requirement already satisfied: pyyaml in /usr/local/lib/python3.7/dist-packages (from tensorflow-docs==0.0.0.dev0) (3.13)\n",
            "Requirement already satisfied: six>=1.9 in /usr/local/lib/python3.7/dist-packages (from protobuf>=3.14->tensorflow-docs==0.0.0.dev0) (1.15.0)\n",
            "Requirement already satisfied: MarkupSafe>=0.23 in /usr/local/lib/python3.7/dist-packages (from jinja2->tensorflow-docs==0.0.0.dev0) (2.0.1)\n"
          ]
        }
      ],
      "source": [
        "# To use some functions from tensorflow_docs\n",
        "!pip install git+https://github.com/tensorflow/docs"
      ]
    },
    {
      "cell_type": "code",
      "execution_count": null,
      "metadata": {
        "id": "1rRo8oNqZ-Rj"
      },
      "outputs": [],
      "source": [
        "import pathlib\n",
        "\n",
        "import numpy as np\n",
        "import pandas as pd\n",
        "\n",
        "import matplotlib.pyplot as plt\n",
        "%matplotlib inline\n",
        "\n",
        "import seaborn as sns\n",
        "import tensorflow as tf\n",
        "\n",
        "from tensorflow.keras.models import Sequential\n",
        "from tensorflow.keras.layers import Dense, Activation\n",
        "from tensorflow.keras.optimizers import SGD\n",
        "from tensorflow.keras.utils import to_categorical\n",
        "\n",
        "import time\n",
        "import numpy as np\n",
        "import matplotlib.pyplot as plt\n",
        "%matplotlib inline"
      ]
    },
    {
      "cell_type": "code",
      "execution_count": null,
      "metadata": {
        "id": "OU_nxQFGP98H"
      },
      "outputs": [],
      "source": [
        "# Import tensorflow 2.x\n",
        "# This code block will only work in Google Colab.\n",
        "try:\n",
        "    # %tensorflow_version only exists in Colab.\n",
        "    %tensorflow_version 2.x\n",
        "except Exception:\n",
        "    pass"
      ]
    },
    {
      "cell_type": "code",
      "execution_count": null,
      "metadata": {
        "colab": {
          "base_uri": "https://localhost:8080/"
        },
        "id": "9xQKvCJ85kCQ",
        "outputId": "fa135fd4-7a0c-41c2-b2e0-39fb1445d6e6"
      },
      "outputs": [
        {
          "output_type": "stream",
          "name": "stdout",
          "text": [
            "2.8.0\n"
          ]
        }
      ],
      "source": [
        "import tensorflow as tf\n",
        "\n",
        "from tensorflow import keras\n",
        "from tensorflow.keras import layers\n",
        "\n",
        "print(tf.__version__)"
      ]
    },
    {
      "cell_type": "code",
      "execution_count": null,
      "metadata": {
        "id": "Qz4HfsgRQUiV"
      },
      "outputs": [],
      "source": [
        "import tensorflow_docs as tfdocs\n",
        "import tensorflow_docs.plots\n",
        "import tensorflow_docs.modeling"
      ]
    },
    {
      "cell_type": "code",
      "execution_count": null,
      "metadata": {
        "colab": {
          "base_uri": "https://localhost:8080/",
          "height": 209
        },
        "id": "p9kxxgzvzlyz",
        "outputId": "02b75e97-8246-4a69-d721-0714b3b1a47e"
      },
      "outputs": [
        {
          "output_type": "execute_result",
          "data": {
            "text/plain": [
              "         Id       Date    Location  MinTemp  MaxTemp  Rainfall WindGustDir  \\\n",
              "0  124741.0 2011-08-07  SalmonGums      3.2     19.0       0.0          NE   \n",
              "\n",
              "   WindGustSpeed WindDir9am WindDir3pm  ...  Humidity9am  Humidity3pm  \\\n",
              "0           31.0          N         NE  ...         60.0         34.0   \n",
              "\n",
              "   Pressure9am  Pressure3pm  Cloud9am  Cloud3pm  Temp9am  Temp3pm  RainToday  \\\n",
              "0   1017.64994  1015.255889  4.447461   4.50993     10.4     18.6        0.0   \n",
              "\n",
              "   RainTomorrow  \n",
              "0           1.0  \n",
              "\n",
              "[1 rows x 22 columns]"
            ],
            "text/html": [
              "\n",
              "  <div id=\"df-f30d4d4a-9e3e-4d27-9318-70b86ab7a15f\">\n",
              "    <div class=\"colab-df-container\">\n",
              "      <div>\n",
              "<style scoped>\n",
              "    .dataframe tbody tr th:only-of-type {\n",
              "        vertical-align: middle;\n",
              "    }\n",
              "\n",
              "    .dataframe tbody tr th {\n",
              "        vertical-align: top;\n",
              "    }\n",
              "\n",
              "    .dataframe thead th {\n",
              "        text-align: right;\n",
              "    }\n",
              "</style>\n",
              "<table border=\"1\" class=\"dataframe\">\n",
              "  <thead>\n",
              "    <tr style=\"text-align: right;\">\n",
              "      <th></th>\n",
              "      <th>Id</th>\n",
              "      <th>Date</th>\n",
              "      <th>Location</th>\n",
              "      <th>MinTemp</th>\n",
              "      <th>MaxTemp</th>\n",
              "      <th>Rainfall</th>\n",
              "      <th>WindGustDir</th>\n",
              "      <th>WindGustSpeed</th>\n",
              "      <th>WindDir9am</th>\n",
              "      <th>WindDir3pm</th>\n",
              "      <th>...</th>\n",
              "      <th>Humidity9am</th>\n",
              "      <th>Humidity3pm</th>\n",
              "      <th>Pressure9am</th>\n",
              "      <th>Pressure3pm</th>\n",
              "      <th>Cloud9am</th>\n",
              "      <th>Cloud3pm</th>\n",
              "      <th>Temp9am</th>\n",
              "      <th>Temp3pm</th>\n",
              "      <th>RainToday</th>\n",
              "      <th>RainTomorrow</th>\n",
              "    </tr>\n",
              "  </thead>\n",
              "  <tbody>\n",
              "    <tr>\n",
              "      <th>0</th>\n",
              "      <td>124741.0</td>\n",
              "      <td>2011-08-07</td>\n",
              "      <td>SalmonGums</td>\n",
              "      <td>3.2</td>\n",
              "      <td>19.0</td>\n",
              "      <td>0.0</td>\n",
              "      <td>NE</td>\n",
              "      <td>31.0</td>\n",
              "      <td>N</td>\n",
              "      <td>NE</td>\n",
              "      <td>...</td>\n",
              "      <td>60.0</td>\n",
              "      <td>34.0</td>\n",
              "      <td>1017.64994</td>\n",
              "      <td>1015.255889</td>\n",
              "      <td>4.447461</td>\n",
              "      <td>4.50993</td>\n",
              "      <td>10.4</td>\n",
              "      <td>18.6</td>\n",
              "      <td>0.0</td>\n",
              "      <td>1.0</td>\n",
              "    </tr>\n",
              "  </tbody>\n",
              "</table>\n",
              "<p>1 rows × 22 columns</p>\n",
              "</div>\n",
              "      <button class=\"colab-df-convert\" onclick=\"convertToInteractive('df-f30d4d4a-9e3e-4d27-9318-70b86ab7a15f')\"\n",
              "              title=\"Convert this dataframe to an interactive table.\"\n",
              "              style=\"display:none;\">\n",
              "        \n",
              "  <svg xmlns=\"http://www.w3.org/2000/svg\" height=\"24px\"viewBox=\"0 0 24 24\"\n",
              "       width=\"24px\">\n",
              "    <path d=\"M0 0h24v24H0V0z\" fill=\"none\"/>\n",
              "    <path d=\"M18.56 5.44l.94 2.06.94-2.06 2.06-.94-2.06-.94-.94-2.06-.94 2.06-2.06.94zm-11 1L8.5 8.5l.94-2.06 2.06-.94-2.06-.94L8.5 2.5l-.94 2.06-2.06.94zm10 10l.94 2.06.94-2.06 2.06-.94-2.06-.94-.94-2.06-.94 2.06-2.06.94z\"/><path d=\"M17.41 7.96l-1.37-1.37c-.4-.4-.92-.59-1.43-.59-.52 0-1.04.2-1.43.59L10.3 9.45l-7.72 7.72c-.78.78-.78 2.05 0 2.83L4 21.41c.39.39.9.59 1.41.59.51 0 1.02-.2 1.41-.59l7.78-7.78 2.81-2.81c.8-.78.8-2.07 0-2.86zM5.41 20L4 18.59l7.72-7.72 1.47 1.35L5.41 20z\"/>\n",
              "  </svg>\n",
              "      </button>\n",
              "      \n",
              "  <style>\n",
              "    .colab-df-container {\n",
              "      display:flex;\n",
              "      flex-wrap:wrap;\n",
              "      gap: 12px;\n",
              "    }\n",
              "\n",
              "    .colab-df-convert {\n",
              "      background-color: #E8F0FE;\n",
              "      border: none;\n",
              "      border-radius: 50%;\n",
              "      cursor: pointer;\n",
              "      display: none;\n",
              "      fill: #1967D2;\n",
              "      height: 32px;\n",
              "      padding: 0 0 0 0;\n",
              "      width: 32px;\n",
              "    }\n",
              "\n",
              "    .colab-df-convert:hover {\n",
              "      background-color: #E2EBFA;\n",
              "      box-shadow: 0px 1px 2px rgba(60, 64, 67, 0.3), 0px 1px 3px 1px rgba(60, 64, 67, 0.15);\n",
              "      fill: #174EA6;\n",
              "    }\n",
              "\n",
              "    [theme=dark] .colab-df-convert {\n",
              "      background-color: #3B4455;\n",
              "      fill: #D2E3FC;\n",
              "    }\n",
              "\n",
              "    [theme=dark] .colab-df-convert:hover {\n",
              "      background-color: #434B5C;\n",
              "      box-shadow: 0px 1px 3px 1px rgba(0, 0, 0, 0.15);\n",
              "      filter: drop-shadow(0px 1px 2px rgba(0, 0, 0, 0.3));\n",
              "      fill: #FFFFFF;\n",
              "    }\n",
              "  </style>\n",
              "\n",
              "      <script>\n",
              "        const buttonEl =\n",
              "          document.querySelector('#df-f30d4d4a-9e3e-4d27-9318-70b86ab7a15f button.colab-df-convert');\n",
              "        buttonEl.style.display =\n",
              "          google.colab.kernel.accessAllowed ? 'block' : 'none';\n",
              "\n",
              "        async function convertToInteractive(key) {\n",
              "          const element = document.querySelector('#df-f30d4d4a-9e3e-4d27-9318-70b86ab7a15f');\n",
              "          const dataTable =\n",
              "            await google.colab.kernel.invokeFunction('convertToInteractive',\n",
              "                                                     [key], {});\n",
              "          if (!dataTable) return;\n",
              "\n",
              "          const docLinkHtml = 'Like what you see? Visit the ' +\n",
              "            '<a target=\"_blank\" href=https://colab.research.google.com/notebooks/data_table.ipynb>data table notebook</a>'\n",
              "            + ' to learn more about interactive tables.';\n",
              "          element.innerHTML = '';\n",
              "          dataTable['output_type'] = 'display_data';\n",
              "          await google.colab.output.renderOutput(dataTable, element);\n",
              "          const docLink = document.createElement('div');\n",
              "          docLink.innerHTML = docLinkHtml;\n",
              "          element.appendChild(docLink);\n",
              "        }\n",
              "      </script>\n",
              "    </div>\n",
              "  </div>\n",
              "  "
            ]
          },
          "metadata": {},
          "execution_count": 147
        }
      ],
      "source": [
        "dataset = pd.read_excel('/content/aus_weather_train.csv')\n",
        "dataset.head(1)"
      ]
    },
    {
      "cell_type": "code",
      "execution_count": null,
      "metadata": {
        "colab": {
          "base_uri": "https://localhost:8080/"
        },
        "id": "QhEE6cO5zfYP",
        "outputId": "14808595-13a6-4517-afb2-fc33a98c09cf"
      },
      "outputs": [
        {
          "output_type": "execute_result",
          "data": {
            "text/plain": [
              "Index(['Id', 'Date', 'Location', 'MinTemp', 'MaxTemp', 'Rainfall',\n",
              "       'WindGustDir', 'WindGustSpeed', 'WindDir9am', 'WindDir3pm',\n",
              "       'WindSpeed9am', 'WindSpeed3pm', 'Humidity9am', 'Humidity3pm',\n",
              "       'Pressure9am', 'Pressure3pm', 'Cloud9am', 'Cloud3pm', 'Temp9am',\n",
              "       'Temp3pm', 'RainToday', 'RainTomorrow'],\n",
              "      dtype='object')"
            ]
          },
          "metadata": {},
          "execution_count": 148
        }
      ],
      "source": [
        "dataset.columns"
      ]
    },
    {
      "cell_type": "code",
      "execution_count": null,
      "metadata": {
        "colab": {
          "base_uri": "https://localhost:8080/"
        },
        "id": "JEJHhN65a2VV",
        "outputId": "5214ed5a-dcc1-4581-8cc7-2bd2f5dfc794"
      },
      "outputs": [
        {
          "output_type": "execute_result",
          "data": {
            "text/plain": [
              "Id               0\n",
              "Date             0\n",
              "Location         0\n",
              "MinTemp          0\n",
              "MaxTemp          0\n",
              "Rainfall         0\n",
              "WindGustDir      0\n",
              "WindGustSpeed    0\n",
              "WindDir9am       0\n",
              "WindDir3pm       0\n",
              "WindSpeed9am     0\n",
              "WindSpeed3pm     0\n",
              "Humidity9am      0\n",
              "Humidity3pm      0\n",
              "Pressure9am      0\n",
              "Pressure3pm      0\n",
              "Cloud9am         0\n",
              "Cloud3pm         0\n",
              "Temp9am          0\n",
              "Temp3pm          0\n",
              "RainToday        0\n",
              "RainTomorrow     0\n",
              "dtype: int64"
            ]
          },
          "metadata": {},
          "execution_count": 149
        }
      ],
      "source": [
        "dataset.isna().sum()"
      ]
    },
    {
      "cell_type": "code",
      "execution_count": null,
      "metadata": {
        "id": "ulXz4J7PAUzk"
      },
      "outputs": [],
      "source": [
        "from sklearn import preprocessing\n",
        "label_encoder = preprocessing.LabelEncoder()\n",
        "dataset[\"Location\"] = label_encoder.fit_transform(dataset[\"Location\"])\n",
        "dataset[\"WindDir9am\"] = label_encoder.fit_transform(dataset[\"WindDir9am\"])\n",
        "dataset[\"WindGustDir\"] = label_encoder.fit_transform(dataset[\"WindGustDir\"])\n",
        "dataset[\"WindDir3pm\"] = label_encoder.fit_transform(dataset[\"WindDir3pm\"])\n"
      ]
    },
    {
      "cell_type": "code",
      "execution_count": null,
      "metadata": {
        "colab": {
          "base_uri": "https://localhost:8080/",
          "height": 209
        },
        "id": "0WVcOkefvqxb",
        "outputId": "2c97e951-a02e-4152-b07d-1577f8f0f0a9"
      },
      "outputs": [
        {
          "output_type": "execute_result",
          "data": {
            "text/plain": [
              "         Id       Date  Location  MinTemp  MaxTemp  Rainfall  WindGustDir  \\\n",
              "0  124741.0 2011-08-07        36      3.2     19.0       0.0            4   \n",
              "\n",
              "   WindGustSpeed  WindDir9am  WindDir3pm  ...  Humidity9am  Humidity3pm  \\\n",
              "0           31.0           3           4  ...         60.0         34.0   \n",
              "\n",
              "   Pressure9am  Pressure3pm  Cloud9am  Cloud3pm  Temp9am  Temp3pm  RainToday  \\\n",
              "0   1017.64994  1015.255889  4.447461   4.50993     10.4     18.6        0.0   \n",
              "\n",
              "   RainTomorrow  \n",
              "0           1.0  \n",
              "\n",
              "[1 rows x 22 columns]"
            ],
            "text/html": [
              "\n",
              "  <div id=\"df-10934cc8-eea0-4a88-9b3b-370dd5c92d20\">\n",
              "    <div class=\"colab-df-container\">\n",
              "      <div>\n",
              "<style scoped>\n",
              "    .dataframe tbody tr th:only-of-type {\n",
              "        vertical-align: middle;\n",
              "    }\n",
              "\n",
              "    .dataframe tbody tr th {\n",
              "        vertical-align: top;\n",
              "    }\n",
              "\n",
              "    .dataframe thead th {\n",
              "        text-align: right;\n",
              "    }\n",
              "</style>\n",
              "<table border=\"1\" class=\"dataframe\">\n",
              "  <thead>\n",
              "    <tr style=\"text-align: right;\">\n",
              "      <th></th>\n",
              "      <th>Id</th>\n",
              "      <th>Date</th>\n",
              "      <th>Location</th>\n",
              "      <th>MinTemp</th>\n",
              "      <th>MaxTemp</th>\n",
              "      <th>Rainfall</th>\n",
              "      <th>WindGustDir</th>\n",
              "      <th>WindGustSpeed</th>\n",
              "      <th>WindDir9am</th>\n",
              "      <th>WindDir3pm</th>\n",
              "      <th>...</th>\n",
              "      <th>Humidity9am</th>\n",
              "      <th>Humidity3pm</th>\n",
              "      <th>Pressure9am</th>\n",
              "      <th>Pressure3pm</th>\n",
              "      <th>Cloud9am</th>\n",
              "      <th>Cloud3pm</th>\n",
              "      <th>Temp9am</th>\n",
              "      <th>Temp3pm</th>\n",
              "      <th>RainToday</th>\n",
              "      <th>RainTomorrow</th>\n",
              "    </tr>\n",
              "  </thead>\n",
              "  <tbody>\n",
              "    <tr>\n",
              "      <th>0</th>\n",
              "      <td>124741.0</td>\n",
              "      <td>2011-08-07</td>\n",
              "      <td>36</td>\n",
              "      <td>3.2</td>\n",
              "      <td>19.0</td>\n",
              "      <td>0.0</td>\n",
              "      <td>4</td>\n",
              "      <td>31.0</td>\n",
              "      <td>3</td>\n",
              "      <td>4</td>\n",
              "      <td>...</td>\n",
              "      <td>60.0</td>\n",
              "      <td>34.0</td>\n",
              "      <td>1017.64994</td>\n",
              "      <td>1015.255889</td>\n",
              "      <td>4.447461</td>\n",
              "      <td>4.50993</td>\n",
              "      <td>10.4</td>\n",
              "      <td>18.6</td>\n",
              "      <td>0.0</td>\n",
              "      <td>1.0</td>\n",
              "    </tr>\n",
              "  </tbody>\n",
              "</table>\n",
              "<p>1 rows × 22 columns</p>\n",
              "</div>\n",
              "      <button class=\"colab-df-convert\" onclick=\"convertToInteractive('df-10934cc8-eea0-4a88-9b3b-370dd5c92d20')\"\n",
              "              title=\"Convert this dataframe to an interactive table.\"\n",
              "              style=\"display:none;\">\n",
              "        \n",
              "  <svg xmlns=\"http://www.w3.org/2000/svg\" height=\"24px\"viewBox=\"0 0 24 24\"\n",
              "       width=\"24px\">\n",
              "    <path d=\"M0 0h24v24H0V0z\" fill=\"none\"/>\n",
              "    <path d=\"M18.56 5.44l.94 2.06.94-2.06 2.06-.94-2.06-.94-.94-2.06-.94 2.06-2.06.94zm-11 1L8.5 8.5l.94-2.06 2.06-.94-2.06-.94L8.5 2.5l-.94 2.06-2.06.94zm10 10l.94 2.06.94-2.06 2.06-.94-2.06-.94-.94-2.06-.94 2.06-2.06.94z\"/><path d=\"M17.41 7.96l-1.37-1.37c-.4-.4-.92-.59-1.43-.59-.52 0-1.04.2-1.43.59L10.3 9.45l-7.72 7.72c-.78.78-.78 2.05 0 2.83L4 21.41c.39.39.9.59 1.41.59.51 0 1.02-.2 1.41-.59l7.78-7.78 2.81-2.81c.8-.78.8-2.07 0-2.86zM5.41 20L4 18.59l7.72-7.72 1.47 1.35L5.41 20z\"/>\n",
              "  </svg>\n",
              "      </button>\n",
              "      \n",
              "  <style>\n",
              "    .colab-df-container {\n",
              "      display:flex;\n",
              "      flex-wrap:wrap;\n",
              "      gap: 12px;\n",
              "    }\n",
              "\n",
              "    .colab-df-convert {\n",
              "      background-color: #E8F0FE;\n",
              "      border: none;\n",
              "      border-radius: 50%;\n",
              "      cursor: pointer;\n",
              "      display: none;\n",
              "      fill: #1967D2;\n",
              "      height: 32px;\n",
              "      padding: 0 0 0 0;\n",
              "      width: 32px;\n",
              "    }\n",
              "\n",
              "    .colab-df-convert:hover {\n",
              "      background-color: #E2EBFA;\n",
              "      box-shadow: 0px 1px 2px rgba(60, 64, 67, 0.3), 0px 1px 3px 1px rgba(60, 64, 67, 0.15);\n",
              "      fill: #174EA6;\n",
              "    }\n",
              "\n",
              "    [theme=dark] .colab-df-convert {\n",
              "      background-color: #3B4455;\n",
              "      fill: #D2E3FC;\n",
              "    }\n",
              "\n",
              "    [theme=dark] .colab-df-convert:hover {\n",
              "      background-color: #434B5C;\n",
              "      box-shadow: 0px 1px 3px 1px rgba(0, 0, 0, 0.15);\n",
              "      filter: drop-shadow(0px 1px 2px rgba(0, 0, 0, 0.3));\n",
              "      fill: #FFFFFF;\n",
              "    }\n",
              "  </style>\n",
              "\n",
              "      <script>\n",
              "        const buttonEl =\n",
              "          document.querySelector('#df-10934cc8-eea0-4a88-9b3b-370dd5c92d20 button.colab-df-convert');\n",
              "        buttonEl.style.display =\n",
              "          google.colab.kernel.accessAllowed ? 'block' : 'none';\n",
              "\n",
              "        async function convertToInteractive(key) {\n",
              "          const element = document.querySelector('#df-10934cc8-eea0-4a88-9b3b-370dd5c92d20');\n",
              "          const dataTable =\n",
              "            await google.colab.kernel.invokeFunction('convertToInteractive',\n",
              "                                                     [key], {});\n",
              "          if (!dataTable) return;\n",
              "\n",
              "          const docLinkHtml = 'Like what you see? Visit the ' +\n",
              "            '<a target=\"_blank\" href=https://colab.research.google.com/notebooks/data_table.ipynb>data table notebook</a>'\n",
              "            + ' to learn more about interactive tables.';\n",
              "          element.innerHTML = '';\n",
              "          dataTable['output_type'] = 'display_data';\n",
              "          await google.colab.output.renderOutput(dataTable, element);\n",
              "          const docLink = document.createElement('div');\n",
              "          docLink.innerHTML = docLinkHtml;\n",
              "          element.appendChild(docLink);\n",
              "        }\n",
              "      </script>\n",
              "    </div>\n",
              "  </div>\n",
              "  "
            ]
          },
          "metadata": {},
          "execution_count": 151
        }
      ],
      "source": [
        "dataset.head(1)"
      ]
    },
    {
      "cell_type": "code",
      "execution_count": null,
      "metadata": {
        "colab": {
          "base_uri": "https://localhost:8080/"
        },
        "id": "amPkqDq6Lrdh",
        "outputId": "5c6d43ca-ba62-49e3-88a0-8241f427516c"
      },
      "outputs": [
        {
          "output_type": "stream",
          "name": "stdout",
          "text": [
            "<class 'pandas.core.frame.DataFrame'>\n",
            "RangeIndex: 51003 entries, 0 to 51002\n",
            "Data columns (total 22 columns):\n",
            " #   Column         Non-Null Count  Dtype         \n",
            "---  ------         --------------  -----         \n",
            " 0   Id             51003 non-null  float64       \n",
            " 1   Date           51003 non-null  datetime64[ns]\n",
            " 2   Location       51003 non-null  int64         \n",
            " 3   MinTemp        51003 non-null  float64       \n",
            " 4   MaxTemp        51003 non-null  float64       \n",
            " 5   Rainfall       51003 non-null  float64       \n",
            " 6   WindGustDir    51003 non-null  int64         \n",
            " 7   WindGustSpeed  51003 non-null  float64       \n",
            " 8   WindDir9am     51003 non-null  int64         \n",
            " 9   WindDir3pm     51003 non-null  int64         \n",
            " 10  WindSpeed9am   51003 non-null  float64       \n",
            " 11  WindSpeed3pm   51003 non-null  float64       \n",
            " 12  Humidity9am    51003 non-null  float64       \n",
            " 13  Humidity3pm    51003 non-null  float64       \n",
            " 14  Pressure9am    51003 non-null  float64       \n",
            " 15  Pressure3pm    51003 non-null  float64       \n",
            " 16  Cloud9am       51003 non-null  float64       \n",
            " 17  Cloud3pm       51003 non-null  float64       \n",
            " 18  Temp9am        51003 non-null  float64       \n",
            " 19  Temp3pm        51003 non-null  float64       \n",
            " 20  RainToday      51003 non-null  float64       \n",
            " 21  RainTomorrow   51003 non-null  float64       \n",
            "dtypes: datetime64[ns](1), float64(17), int64(4)\n",
            "memory usage: 8.6 MB\n"
          ]
        }
      ],
      "source": [
        "dataset.info()"
      ]
    },
    {
      "cell_type": "code",
      "execution_count": null,
      "metadata": {
        "id": "qn-IGhUE7_1H"
      },
      "outputs": [],
      "source": [
        "train_dataset = dataset.sample(frac=0.8,random_state=0)\n",
        "train_dataset.drop('Date', axis = 1,inplace =True)"
      ]
    },
    {
      "cell_type": "code",
      "execution_count": null,
      "metadata": {
        "id": "JojFa3DRfHIz"
      },
      "outputs": [],
      "source": [
        "test_dataset = dataset.drop(train_dataset.index)\n",
        "test_dataset.drop('Date',axis = 1, inplace =True)"
      ]
    },
    {
      "cell_type": "code",
      "execution_count": null,
      "metadata": {
        "id": "yi2FzC3T21jR"
      },
      "outputs": [],
      "source": [
        "train_labels = train_dataset.pop('RainTomorrow')"
      ]
    },
    {
      "cell_type": "code",
      "execution_count": null,
      "metadata": {
        "id": "xazfx7QAqY02"
      },
      "outputs": [],
      "source": [
        "test_labels = test_dataset.pop('RainTomorrow')"
      ]
    },
    {
      "cell_type": "code",
      "source": [
        "def deep_nn():\n",
        "    model = keras.Sequential([layers.Dense(256, activation='relu', kernel_regularizer=regularizers.l2(0.001), input_shape=[len(train_dataset.keys())]),\n",
        "                          \n",
        "                          layers.Dense(256, activation='relu', kernel_regularizer=regularizers.l2(0.001)),\n",
        "                          \n",
        "                          layers.Dense(256, activation='relu', kernel_regularizer=regularizers.l2(0.001)),\n",
        "                          \n",
        "                          layers.Dense(256, activation='relu', kernel_regularizer=regularizers.l2(0.001)),\n",
        "                          \n",
        "                          layers.Dense(1,activation='sigmoid')])\n",
        "    return model"
      ],
      "metadata": {
        "id": "G5ZxTGvXlTSq"
      },
      "execution_count": null,
      "outputs": []
    },
    {
      "cell_type": "code",
      "source": [
        "# define model\n",
        "model = deep_nn()\n",
        "\n",
        "# define optimizer\n",
        "sgd = SGD(lr=0.01)\n",
        "model.compile(optimizer=sgd, loss='mse', metrics=['accuracy'])\n",
        "\n",
        "# print model information\n",
        "model.summary()"
      ],
      "metadata": {
        "colab": {
          "base_uri": "https://localhost:8080/"
        },
        "id": "Z_ea04E2ljx9",
        "outputId": "24fa4816-ac62-4b23-b61c-9b2cbdb1aa61"
      },
      "execution_count": null,
      "outputs": [
        {
          "output_type": "stream",
          "name": "stdout",
          "text": [
            "Model: \"sequential_23\"\n",
            "_________________________________________________________________\n",
            " Layer (type)                Output Shape              Param #   \n",
            "=================================================================\n",
            " dense_125 (Dense)           (None, 256)               5376      \n",
            "                                                                 \n",
            " dense_126 (Dense)           (None, 256)               65792     \n",
            "                                                                 \n",
            " dense_127 (Dense)           (None, 256)               65792     \n",
            "                                                                 \n",
            " dense_128 (Dense)           (None, 256)               65792     \n",
            "                                                                 \n",
            " dense_129 (Dense)           (None, 1)                 257       \n",
            "                                                                 \n",
            "=================================================================\n",
            "Total params: 203,009\n",
            "Trainable params: 203,009\n",
            "Non-trainable params: 0\n",
            "_________________________________________________________________\n"
          ]
        },
        {
          "output_type": "stream",
          "name": "stderr",
          "text": [
            "/usr/local/lib/python3.7/dist-packages/keras/optimizer_v2/gradient_descent.py:102: UserWarning: The `lr` argument is deprecated, use `learning_rate` instead.\n",
            "  super(SGD, self).__init__(name, **kwargs)\n"
          ]
        }
      ]
    },
    {
      "cell_type": "code",
      "source": [
        "start = time.time()\n",
        "model_info = model.fit(train_dataset, train_labels, batch_size=32, \\\n",
        "                       epochs=100, verbose=2, validation_split=0.2)\n",
        "end = time.time()\n",
        "print (\"Model took %0.2f seconds to train\"%(end - start))"
      ],
      "metadata": {
        "colab": {
          "base_uri": "https://localhost:8080/"
        },
        "id": "qE3eB0WQlmGw",
        "outputId": "c47368b3-5f2c-4fb8-c816-a8480f898896"
      },
      "execution_count": null,
      "outputs": [
        {
          "output_type": "stream",
          "name": "stdout",
          "text": [
            "Epoch 1/100\n",
            "1021/1021 - 5s - loss: 1.2902 - accuracy: 0.5011 - val_loss: 1.2738 - val_accuracy: 0.5014 - 5s/epoch - 5ms/step\n",
            "Epoch 2/100\n",
            "1021/1021 - 4s - loss: 1.2585 - accuracy: 0.5011 - val_loss: 1.2428 - val_accuracy: 0.5014 - 4s/epoch - 4ms/step\n",
            "Epoch 3/100\n",
            "1021/1021 - 4s - loss: 1.2281 - accuracy: 0.5011 - val_loss: 1.2130 - val_accuracy: 0.5014 - 4s/epoch - 4ms/step\n",
            "Epoch 4/100\n",
            "1021/1021 - 4s - loss: 1.1990 - accuracy: 0.5011 - val_loss: 1.1844 - val_accuracy: 0.5014 - 4s/epoch - 4ms/step\n",
            "Epoch 5/100\n",
            "1021/1021 - 4s - loss: 1.1710 - accuracy: 0.5011 - val_loss: 1.1570 - val_accuracy: 0.5014 - 4s/epoch - 4ms/step\n",
            "Epoch 6/100\n",
            "1021/1021 - 4s - loss: 1.1441 - accuracy: 0.5011 - val_loss: 1.1306 - val_accuracy: 0.5014 - 4s/epoch - 4ms/step\n",
            "Epoch 7/100\n",
            "1021/1021 - 4s - loss: 1.1182 - accuracy: 0.5011 - val_loss: 1.1053 - val_accuracy: 0.5014 - 4s/epoch - 4ms/step\n",
            "Epoch 8/100\n",
            "1021/1021 - 4s - loss: 1.0935 - accuracy: 0.5011 - val_loss: 1.0811 - val_accuracy: 0.5014 - 4s/epoch - 4ms/step\n",
            "Epoch 9/100\n",
            "1021/1021 - 4s - loss: 1.0697 - accuracy: 0.5011 - val_loss: 1.0577 - val_accuracy: 0.5014 - 4s/epoch - 4ms/step\n",
            "Epoch 10/100\n",
            "1021/1021 - 4s - loss: 1.0468 - accuracy: 0.5011 - val_loss: 1.0354 - val_accuracy: 0.5014 - 4s/epoch - 4ms/step\n",
            "Epoch 11/100\n",
            "1021/1021 - 4s - loss: 1.0249 - accuracy: 0.5011 - val_loss: 1.0139 - val_accuracy: 0.5014 - 4s/epoch - 4ms/step\n",
            "Epoch 12/100\n",
            "1021/1021 - 4s - loss: 1.0039 - accuracy: 0.5011 - val_loss: 0.9933 - val_accuracy: 0.5014 - 4s/epoch - 4ms/step\n",
            "Epoch 13/100\n",
            "1021/1021 - 4s - loss: 0.9836 - accuracy: 0.5011 - val_loss: 0.9735 - val_accuracy: 0.5014 - 4s/epoch - 4ms/step\n",
            "Epoch 14/100\n",
            "1021/1021 - 4s - loss: 0.9642 - accuracy: 0.5011 - val_loss: 0.9545 - val_accuracy: 0.5014 - 4s/epoch - 4ms/step\n",
            "Epoch 15/100\n",
            "1021/1021 - 4s - loss: 0.9456 - accuracy: 0.5011 - val_loss: 0.9362 - val_accuracy: 0.5014 - 4s/epoch - 4ms/step\n",
            "Epoch 16/100\n",
            "1021/1021 - 4s - loss: 0.9277 - accuracy: 0.5011 - val_loss: 0.9187 - val_accuracy: 0.5014 - 4s/epoch - 4ms/step\n",
            "Epoch 17/100\n",
            "1021/1021 - 4s - loss: 0.9106 - accuracy: 0.5011 - val_loss: 0.9019 - val_accuracy: 0.5014 - 4s/epoch - 4ms/step\n",
            "Epoch 18/100\n",
            "1021/1021 - 4s - loss: 0.8941 - accuracy: 0.5011 - val_loss: 0.8858 - val_accuracy: 0.5014 - 4s/epoch - 4ms/step\n",
            "Epoch 19/100\n",
            "1021/1021 - 5s - loss: 0.8783 - accuracy: 0.5011 - val_loss: 0.8703 - val_accuracy: 0.5014 - 5s/epoch - 4ms/step\n",
            "Epoch 20/100\n",
            "1021/1021 - 6s - loss: 0.8631 - accuracy: 0.5011 - val_loss: 0.8554 - val_accuracy: 0.5014 - 6s/epoch - 6ms/step\n",
            "Epoch 21/100\n",
            "1021/1021 - 4s - loss: 0.8485 - accuracy: 0.5011 - val_loss: 0.8411 - val_accuracy: 0.5014 - 4s/epoch - 4ms/step\n",
            "Epoch 22/100\n",
            "1021/1021 - 4s - loss: 0.8346 - accuracy: 0.5011 - val_loss: 0.8274 - val_accuracy: 0.5014 - 4s/epoch - 4ms/step\n",
            "Epoch 23/100\n",
            "1021/1021 - 4s - loss: 0.8211 - accuracy: 0.5011 - val_loss: 0.8142 - val_accuracy: 0.5014 - 4s/epoch - 4ms/step\n",
            "Epoch 24/100\n",
            "1021/1021 - 4s - loss: 0.8082 - accuracy: 0.5011 - val_loss: 0.8016 - val_accuracy: 0.5014 - 4s/epoch - 4ms/step\n",
            "Epoch 25/100\n",
            "1021/1021 - 4s - loss: 0.7958 - accuracy: 0.5011 - val_loss: 0.7895 - val_accuracy: 0.5014 - 4s/epoch - 4ms/step\n",
            "Epoch 26/100\n",
            "1021/1021 - 4s - loss: 0.7840 - accuracy: 0.5011 - val_loss: 0.7779 - val_accuracy: 0.5014 - 4s/epoch - 4ms/step\n",
            "Epoch 27/100\n",
            "1021/1021 - 4s - loss: 0.7726 - accuracy: 0.5011 - val_loss: 0.7667 - val_accuracy: 0.5014 - 4s/epoch - 4ms/step\n",
            "Epoch 28/100\n",
            "1021/1021 - 4s - loss: 0.7616 - accuracy: 0.5011 - val_loss: 0.7559 - val_accuracy: 0.5014 - 4s/epoch - 4ms/step\n",
            "Epoch 29/100\n",
            "1021/1021 - 4s - loss: 0.7511 - accuracy: 0.5011 - val_loss: 0.7456 - val_accuracy: 0.5014 - 4s/epoch - 4ms/step\n",
            "Epoch 30/100\n",
            "1021/1021 - 4s - loss: 0.7410 - accuracy: 0.5011 - val_loss: 0.7358 - val_accuracy: 0.5014 - 4s/epoch - 4ms/step\n",
            "Epoch 31/100\n",
            "1021/1021 - 4s - loss: 0.7313 - accuracy: 0.5011 - val_loss: 0.7263 - val_accuracy: 0.5014 - 4s/epoch - 4ms/step\n",
            "Epoch 32/100\n",
            "1021/1021 - 4s - loss: 0.7220 - accuracy: 0.5011 - val_loss: 0.7172 - val_accuracy: 0.5014 - 4s/epoch - 4ms/step\n",
            "Epoch 33/100\n",
            "1021/1021 - 4s - loss: 0.7131 - accuracy: 0.5011 - val_loss: 0.7084 - val_accuracy: 0.5014 - 4s/epoch - 4ms/step\n",
            "Epoch 34/100\n",
            "1021/1021 - 4s - loss: 0.7045 - accuracy: 0.5011 - val_loss: 0.7000 - val_accuracy: 0.5014 - 4s/epoch - 4ms/step\n",
            "Epoch 35/100\n",
            "1021/1021 - 4s - loss: 0.6960 - accuracy: 0.5003 - val_loss: 0.6947 - val_accuracy: 0.4986 - 4s/epoch - 4ms/step\n",
            "Epoch 36/100\n",
            "1021/1021 - 4s - loss: 0.6913 - accuracy: 0.4988 - val_loss: 0.6851 - val_accuracy: 0.5014 - 4s/epoch - 4ms/step\n",
            "Epoch 37/100\n",
            "1021/1021 - 4s - loss: 0.6817 - accuracy: 0.5011 - val_loss: 0.6776 - val_accuracy: 0.5014 - 4s/epoch - 4ms/step\n",
            "Epoch 38/100\n",
            "1021/1021 - 4s - loss: 0.6743 - accuracy: 0.5011 - val_loss: 0.6705 - val_accuracy: 0.5014 - 4s/epoch - 4ms/step\n",
            "Epoch 39/100\n",
            "1021/1021 - 4s - loss: 0.6673 - accuracy: 0.5011 - val_loss: 0.6636 - val_accuracy: 0.5014 - 4s/epoch - 4ms/step\n",
            "Epoch 40/100\n",
            "1021/1021 - 4s - loss: 0.6606 - accuracy: 0.5011 - val_loss: 0.6570 - val_accuracy: 0.5014 - 4s/epoch - 4ms/step\n",
            "Epoch 41/100\n",
            "1021/1021 - 4s - loss: 0.6541 - accuracy: 0.5011 - val_loss: 0.6506 - val_accuracy: 0.5014 - 4s/epoch - 4ms/step\n",
            "Epoch 42/100\n",
            "1021/1021 - 4s - loss: 0.6479 - accuracy: 0.5011 - val_loss: 0.6446 - val_accuracy: 0.5014 - 4s/epoch - 4ms/step\n",
            "Epoch 43/100\n",
            "1021/1021 - 4s - loss: 0.6419 - accuracy: 0.5011 - val_loss: 0.6387 - val_accuracy: 0.5014 - 4s/epoch - 4ms/step\n",
            "Epoch 44/100\n",
            "1021/1021 - 4s - loss: 0.6362 - accuracy: 0.5011 - val_loss: 0.6331 - val_accuracy: 0.5014 - 4s/epoch - 4ms/step\n",
            "Epoch 45/100\n",
            "1021/1021 - 4s - loss: 0.6307 - accuracy: 0.5011 - val_loss: 0.6277 - val_accuracy: 0.5014 - 4s/epoch - 4ms/step\n",
            "Epoch 46/100\n",
            "1021/1021 - 4s - loss: 0.6254 - accuracy: 0.5011 - val_loss: 0.6226 - val_accuracy: 0.5014 - 4s/epoch - 4ms/step\n",
            "Epoch 47/100\n",
            "1021/1021 - 4s - loss: 0.6204 - accuracy: 0.5011 - val_loss: 0.6176 - val_accuracy: 0.5014 - 4s/epoch - 4ms/step\n",
            "Epoch 48/100\n",
            "1021/1021 - 4s - loss: 0.6155 - accuracy: 0.5011 - val_loss: 0.6128 - val_accuracy: 0.5014 - 4s/epoch - 4ms/step\n",
            "Epoch 49/100\n",
            "1021/1021 - 4s - loss: 0.6109 - accuracy: 0.5011 - val_loss: 0.6083 - val_accuracy: 0.5014 - 4s/epoch - 4ms/step\n",
            "Epoch 50/100\n",
            "1021/1021 - 4s - loss: 0.6064 - accuracy: 0.5011 - val_loss: 0.6039 - val_accuracy: 0.5014 - 4s/epoch - 4ms/step\n",
            "Epoch 51/100\n",
            "1021/1021 - 4s - loss: 0.6021 - accuracy: 0.5011 - val_loss: 0.5997 - val_accuracy: 0.5014 - 4s/epoch - 4ms/step\n",
            "Epoch 52/100\n",
            "1021/1021 - 4s - loss: 0.5979 - accuracy: 0.5011 - val_loss: 0.5956 - val_accuracy: 0.5014 - 4s/epoch - 4ms/step\n",
            "Epoch 53/100\n",
            "1021/1021 - 4s - loss: 0.5940 - accuracy: 0.5011 - val_loss: 0.5917 - val_accuracy: 0.5014 - 4s/epoch - 4ms/step\n",
            "Epoch 54/100\n",
            "1021/1021 - 4s - loss: 0.5902 - accuracy: 0.5011 - val_loss: 0.5880 - val_accuracy: 0.5014 - 4s/epoch - 4ms/step\n",
            "Epoch 55/100\n",
            "1021/1021 - 4s - loss: 0.5865 - accuracy: 0.5011 - val_loss: 0.5844 - val_accuracy: 0.5014 - 4s/epoch - 4ms/step\n",
            "Epoch 56/100\n",
            "1021/1021 - 5s - loss: 0.5830 - accuracy: 0.5011 - val_loss: 0.5810 - val_accuracy: 0.5014 - 5s/epoch - 4ms/step\n",
            "Epoch 57/100\n",
            "1021/1021 - 4s - loss: 0.5796 - accuracy: 0.5011 - val_loss: 0.5776 - val_accuracy: 0.5014 - 4s/epoch - 4ms/step\n",
            "Epoch 58/100\n",
            "1021/1021 - 4s - loss: 0.5755 - accuracy: 0.5012 - val_loss: 0.5713 - val_accuracy: 0.5021 - 4s/epoch - 4ms/step\n",
            "Epoch 59/100\n",
            "1021/1021 - 4s - loss: 0.5694 - accuracy: 0.5019 - val_loss: 0.5670 - val_accuracy: 0.4993 - 4s/epoch - 4ms/step\n",
            "Epoch 60/100\n",
            "1021/1021 - 6s - loss: 0.5700 - accuracy: 0.4988 - val_loss: 0.5699 - val_accuracy: 0.4982 - 6s/epoch - 6ms/step\n",
            "Epoch 61/100\n",
            "1021/1021 - 6s - loss: 0.5645 - accuracy: 0.4988 - val_loss: 0.5658 - val_accuracy: 0.4986 - 6s/epoch - 6ms/step\n",
            "Epoch 62/100\n",
            "1021/1021 - 4s - loss: 0.5646 - accuracy: 0.4987 - val_loss: 0.5665 - val_accuracy: 0.4986 - 4s/epoch - 4ms/step\n",
            "Epoch 63/100\n",
            "1021/1021 - 4s - loss: 0.5565 - accuracy: 0.4985 - val_loss: 0.5552 - val_accuracy: 0.4986 - 4s/epoch - 4ms/step\n",
            "Epoch 64/100\n",
            "1021/1021 - 4s - loss: 0.3212 - accuracy: 0.5010 - val_loss: 0.3103 - val_accuracy: 0.4892 - 4s/epoch - 4ms/step\n",
            "Epoch 65/100\n",
            "1021/1021 - 4s - loss: 0.3089 - accuracy: 0.5002 - val_loss: 0.3076 - val_accuracy: 0.5014 - 4s/epoch - 4ms/step\n",
            "Epoch 66/100\n",
            "1021/1021 - 4s - loss: 0.3065 - accuracy: 0.4994 - val_loss: 0.3053 - val_accuracy: 0.5090 - 4s/epoch - 4ms/step\n",
            "Epoch 67/100\n",
            "1021/1021 - 4s - loss: 0.3043 - accuracy: 0.5002 - val_loss: 0.3031 - val_accuracy: 0.5028 - 4s/epoch - 4ms/step\n",
            "Epoch 68/100\n",
            "1021/1021 - 4s - loss: 0.3021 - accuracy: 0.4987 - val_loss: 0.3009 - val_accuracy: 0.5099 - 4s/epoch - 4ms/step\n",
            "Epoch 69/100\n",
            "1021/1021 - 4s - loss: 0.3000 - accuracy: 0.5047 - val_loss: 0.2989 - val_accuracy: 0.5014 - 4s/epoch - 4ms/step\n",
            "Epoch 70/100\n",
            "1021/1021 - 4s - loss: 0.2980 - accuracy: 0.5011 - val_loss: 0.2971 - val_accuracy: 0.4936 - 4s/epoch - 4ms/step\n",
            "Epoch 71/100\n",
            "1021/1021 - 4s - loss: 0.2961 - accuracy: 0.5000 - val_loss: 0.2951 - val_accuracy: 0.5014 - 4s/epoch - 4ms/step\n",
            "Epoch 72/100\n",
            "1021/1021 - 4s - loss: 0.2945 - accuracy: 0.4998 - val_loss: 0.2933 - val_accuracy: 0.5104 - 4s/epoch - 4ms/step\n",
            "Epoch 73/100\n",
            "1021/1021 - 4s - loss: 0.2924 - accuracy: 0.5007 - val_loss: 0.2915 - val_accuracy: 0.5089 - 4s/epoch - 4ms/step\n",
            "Epoch 74/100\n",
            "1021/1021 - 4s - loss: 0.2908 - accuracy: 0.5023 - val_loss: 0.2899 - val_accuracy: 0.5074 - 4s/epoch - 4ms/step\n",
            "Epoch 75/100\n",
            "1021/1021 - 4s - loss: 0.2891 - accuracy: 0.5011 - val_loss: 0.2883 - val_accuracy: 0.5019 - 4s/epoch - 4ms/step\n",
            "Epoch 76/100\n",
            "1021/1021 - 4s - loss: 0.2876 - accuracy: 0.5000 - val_loss: 0.2867 - val_accuracy: 0.5014 - 4s/epoch - 4ms/step\n",
            "Epoch 77/100\n",
            "1021/1021 - 5s - loss: 0.2860 - accuracy: 0.4969 - val_loss: 0.2853 - val_accuracy: 0.5015 - 5s/epoch - 5ms/step\n",
            "Epoch 78/100\n",
            "1021/1021 - 4s - loss: 0.2846 - accuracy: 0.5006 - val_loss: 0.2838 - val_accuracy: 0.5102 - 4s/epoch - 4ms/step\n",
            "Epoch 79/100\n",
            "1021/1021 - 4s - loss: 0.2834 - accuracy: 0.5027 - val_loss: 0.2825 - val_accuracy: 0.5108 - 4s/epoch - 4ms/step\n",
            "Epoch 80/100\n",
            "1021/1021 - 4s - loss: 0.2819 - accuracy: 0.5018 - val_loss: 0.2811 - val_accuracy: 0.5095 - 4s/epoch - 4ms/step\n",
            "Epoch 81/100\n",
            "1021/1021 - 5s - loss: 0.2807 - accuracy: 0.5010 - val_loss: 0.2800 - val_accuracy: 0.5116 - 5s/epoch - 5ms/step\n",
            "Epoch 82/100\n",
            "1021/1021 - 4s - loss: 0.2794 - accuracy: 0.5015 - val_loss: 0.2788 - val_accuracy: 0.5106 - 4s/epoch - 4ms/step\n",
            "Epoch 83/100\n",
            "1021/1021 - 4s - loss: 0.2783 - accuracy: 0.5041 - val_loss: 0.2777 - val_accuracy: 0.5091 - 4s/epoch - 4ms/step\n",
            "Epoch 84/100\n",
            "1021/1021 - 4s - loss: 0.2771 - accuracy: 0.5019 - val_loss: 0.2765 - val_accuracy: 0.5024 - 4s/epoch - 4ms/step\n",
            "Epoch 85/100\n",
            "1021/1021 - 4s - loss: 0.2760 - accuracy: 0.5028 - val_loss: 0.2754 - val_accuracy: 0.5119 - 4s/epoch - 4ms/step\n",
            "Epoch 86/100\n",
            "1021/1021 - 4s - loss: 0.2750 - accuracy: 0.4998 - val_loss: 0.2745 - val_accuracy: 0.5083 - 4s/epoch - 4ms/step\n",
            "Epoch 87/100\n",
            "1021/1021 - 4s - loss: 0.2740 - accuracy: 0.5025 - val_loss: 0.2735 - val_accuracy: 0.5091 - 4s/epoch - 4ms/step\n",
            "Epoch 88/100\n",
            "1021/1021 - 4s - loss: 0.2730 - accuracy: 0.5008 - val_loss: 0.2726 - val_accuracy: 0.5070 - 4s/epoch - 4ms/step\n",
            "Epoch 89/100\n",
            "1021/1021 - 4s - loss: 0.2721 - accuracy: 0.4976 - val_loss: 0.2716 - val_accuracy: 0.5074 - 4s/epoch - 4ms/step\n",
            "Epoch 90/100\n",
            "1021/1021 - 4s - loss: 0.2712 - accuracy: 0.4987 - val_loss: 0.2707 - val_accuracy: 0.5062 - 4s/epoch - 4ms/step\n",
            "Epoch 91/100\n",
            "1021/1021 - 4s - loss: 0.2704 - accuracy: 0.5061 - val_loss: 0.2699 - val_accuracy: 0.5099 - 4s/epoch - 4ms/step\n",
            "Epoch 92/100\n",
            "1021/1021 - 4s - loss: 0.2695 - accuracy: 0.4992 - val_loss: 0.2691 - val_accuracy: 0.5014 - 4s/epoch - 4ms/step\n",
            "Epoch 93/100\n",
            "1021/1021 - 4s - loss: 0.2688 - accuracy: 0.5025 - val_loss: 0.2683 - val_accuracy: 0.5079 - 4s/epoch - 4ms/step\n",
            "Epoch 94/100\n",
            "1021/1021 - 4s - loss: 0.2680 - accuracy: 0.5031 - val_loss: 0.2676 - val_accuracy: 0.5069 - 4s/epoch - 4ms/step\n",
            "Epoch 95/100\n",
            "1021/1021 - 4s - loss: 0.2673 - accuracy: 0.5033 - val_loss: 0.2671 - val_accuracy: 0.5014 - 4s/epoch - 4ms/step\n",
            "Epoch 96/100\n",
            "1021/1021 - 4s - loss: 0.2666 - accuracy: 0.4970 - val_loss: 0.2662 - val_accuracy: 0.5014 - 4s/epoch - 4ms/step\n",
            "Epoch 97/100\n",
            "1021/1021 - 4s - loss: 0.2659 - accuracy: 0.5010 - val_loss: 0.2656 - val_accuracy: 0.4966 - 4s/epoch - 4ms/step\n",
            "Epoch 98/100\n",
            "1021/1021 - 4s - loss: 0.2653 - accuracy: 0.5062 - val_loss: 0.2650 - val_accuracy: 0.5014 - 4s/epoch - 4ms/step\n",
            "Epoch 99/100\n",
            "1021/1021 - 4s - loss: 0.2647 - accuracy: 0.5018 - val_loss: 0.2643 - val_accuracy: 0.5014 - 4s/epoch - 4ms/step\n",
            "Epoch 100/100\n",
            "1021/1021 - 4s - loss: 0.2641 - accuracy: 0.5004 - val_loss: 0.2638 - val_accuracy: 0.5014 - 4s/epoch - 4ms/step\n",
            "Model took 442.57 seconds to train\n"
          ]
        }
      ]
    },
    {
      "cell_type": "code",
      "source": [
        "def plot_model_history(model_history):\n",
        "    fig, axs = plt.subplots(1,2,figsize=(15,5))\n",
        "\n",
        "    # summarize history for accuracy\n",
        "    axs[0].plot(range(1,len(model_history.history['accuracy'])+1),model_history.history['accuracy'])\n",
        "    axs[0].plot(range(1,len(model_history.history['val_accuracy'])+1),model_history.history['val_accuracy'])\n",
        "    axs[0].set_title('Model Accuracy')\n",
        "    axs[0].set_ylabel('Accuracy')\n",
        "    axs[0].set_xlabel('Epoch')\n",
        "    axs[0].set_xticks(np.arange(1,len(model_history.history['accuracy'])+1),len(model_history.history['accuracy'])/10)\n",
        "    axs[0].legend(['train', 'val'], loc='best')\n",
        "\n",
        "    # summarize history for loss\n",
        "    axs[1].plot(range(1,len(model_history.history['loss'])+1),model_history.history['loss'])\n",
        "    axs[1].plot(range(1,len(model_history.history['val_loss'])+1),model_history.history['val_loss'])\n",
        "    axs[1].set_title('Model Loss')\n",
        "    axs[1].set_ylabel('Loss')\n",
        "    axs[1].set_xlabel('Epoch')\n",
        "    axs[1].set_xticks(np.arange(1,len(model_history.history['loss'])+1),len(model_history.history['loss'])/10)\n",
        "    axs[1].legend(['train', 'val'], loc='best')\n",
        "    plt.show()\n",
        "    \n",
        "plot_model_history(model_info)"
      ],
      "metadata": {
        "colab": {
          "base_uri": "https://localhost:8080/",
          "height": 422
        },
        "id": "OTPkD8PHr-hw",
        "outputId": "c31718d0-b43f-431d-8720-7c96e6312dff"
      },
      "execution_count": null,
      "outputs": [
        {
          "output_type": "stream",
          "name": "stderr",
          "text": [
            "/usr/local/lib/python3.7/dist-packages/ipykernel_launcher.py:10: MatplotlibDeprecationWarning: Passing the minor parameter of set_xticks() positionally is deprecated since Matplotlib 3.2; the parameter will become keyword-only two minor releases later.\n",
            "  # Remove the CWD from sys.path while we load stuff.\n",
            "/usr/local/lib/python3.7/dist-packages/ipykernel_launcher.py:19: MatplotlibDeprecationWarning: Passing the minor parameter of set_xticks() positionally is deprecated since Matplotlib 3.2; the parameter will become keyword-only two minor releases later.\n"
          ]
        },
        {
          "output_type": "display_data",
          "data": {
            "text/plain": [
              "<Figure size 1080x360 with 2 Axes>"
            ],
            "image/png": "[encoded data removed]"
          },
          "metadata": {
            "needs_background": "light"
          }
        }
      ]
    }
  ],
  "metadata": {
    "accelerator": "GPU",
    "colab": {
      "provenance": [],
      "toc_visible": true
    },
    "kernelspec": {
      "display_name": "Python 3",
      "name": "python3"
    }
  },
  "nbformat": 4,
  "nbformat_minor": 0
}