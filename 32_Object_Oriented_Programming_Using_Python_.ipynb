{
  "nbformat": 4,
  "nbformat_minor": 0,
  "metadata": {
    "colab": {
      "provenance": []
    },
    "kernelspec": {
      "name": "python3",
      "display_name": "Python 3"
    },
    "language_info": {
      "name": "python"
    }
  },
  "cells": [
    {
      "cell_type": "code",
      "execution_count": 10,
      "metadata": {
        "id": "-plcVGiBKpjB"
      },
      "outputs": [],
      "source": [
        "#How to define a classname\n",
        "## Here the syntax is class <class name>\n",
        "## Defining a class named Ourmentors\n",
        "class Ourmentors:\n",
        "    def __init__(self,fname,lname,address,email,phone_number):\n",
        "        self.fname = fname\n",
        "        self.lname = lname\n",
        "        self.address = address\n",
        "        self.email = email\n",
        "        self.phone_number = phone_number"
      ]
    },
    {
      "cell_type": "code",
      "source": [
        "object_Name1 = Ourmentors(\"Name1\",\"LName1\",\"Address1\",\"Email1\",\"ph1\")"
      ],
      "metadata": {
        "id": "-lUe7l9-Qbgu"
      },
      "execution_count": 11,
      "outputs": []
    },
    {
      "cell_type": "code",
      "source": [
        "object_Name1"
      ],
      "metadata": {
        "colab": {
          "base_uri": "https://localhost:8080/"
        },
        "id": "oR9eWxmbQ9sP",
        "outputId": "fe8c38ad-8c59-45a5-b37d-e14d41327e22"
      },
      "execution_count": 12,
      "outputs": [
        {
          "output_type": "execute_result",
          "data": {
            "text/plain": [
              "<__main__.Ourmentors at 0x7f672845d340>"
            ]
          },
          "metadata": {},
          "execution_count": 12
        }
      ]
    },
    {
      "cell_type": "code",
      "source": [
        "object_Name2 = Ourmentors(\"Name2\",\"LName2\",\"Address2\",\"Email2\",\"ph2\")"
      ],
      "metadata": {
        "id": "rnknyo3PMJ8d"
      },
      "execution_count": 15,
      "outputs": []
    },
    {
      "cell_type": "code",
      "source": [
        "object_Name2"
      ],
      "metadata": {
        "colab": {
          "base_uri": "https://localhost:8080/"
        },
        "id": "ljqdSMd2TXE7",
        "outputId": "43feffc5-b6df-44b6-f0fa-461ed1f984dc"
      },
      "execution_count": 16,
      "outputs": [
        {
          "output_type": "execute_result",
          "data": {
            "text/plain": [
              "<__main__.Ourmentors at 0x7f672845d730>"
            ]
          },
          "metadata": {},
          "execution_count": 16
        }
      ]
    },
    {
      "cell_type": "code",
      "source": [
        "print(\"The first name of this candidate is :\", object_Name1.fname)\n",
        "print(\"The last name of this candidate is :\", object_Name1.lname)\n",
        "print(\"The address of this candidate is :\", object_Name1.address)\n",
        "print(\"The email of this candidate is :\", object_Name1.email)\n",
        "print(\"The phone number of this candidate is :\", object_Name1.phone_number)"
      ],
      "metadata": {
        "colab": {
          "base_uri": "https://localhost:8080/"
        },
        "id": "t0VuoGLsRVQO",
        "outputId": "31e81d4a-5738-4149-cf3e-46a6d69412fc"
      },
      "execution_count": 17,
      "outputs": [
        {
          "output_type": "stream",
          "name": "stdout",
          "text": [
            "The first name of this candidate is : Name1\n",
            "The last name of this candidate is : LName1\n",
            "The address of this candidate is : Address1\n",
            "The email of this candidate is : Email1\n",
            "The phone number of this candidate is : ph1\n"
          ]
        }
      ]
    },
    {
      "cell_type": "code",
      "source": [
        "object_Name2 = Ourmentors(\"Name2\",\"LName2\",\"Address2\",\"Email2\",\"ph2\")\n",
        "print(\"The first name of this candidate is :\", object_Name2.fname)\n",
        "print(\"The last name of this candidate is :\", object_Name2.lname)\n",
        "print(\"The address of this candidate is :\", object_Name2.address)\n",
        "print(\"The email of this candidate is :\", object_Name2.email)\n",
        "print(\"The phone number of this candidate is :\", object_Name2.phone_number)"
      ],
      "metadata": {
        "colab": {
          "base_uri": "https://localhost:8080/"
        },
        "id": "2OTqaNIHTMn8",
        "outputId": "0728fdf8-089e-481f-ea9e-2789f347aa96"
      },
      "execution_count": 20,
      "outputs": [
        {
          "output_type": "stream",
          "name": "stdout",
          "text": [
            "The first name of this candidate is : Name2\n",
            "The last name of this candidate is : LName2\n",
            "The address of this candidate is : Address2\n",
            "The email of this candidate is : Email2\n",
            "The phone number of this candidate is : ph2\n"
          ]
        }
      ]
    },
    {
      "cell_type": "code",
      "source": [
        "def Ourmentors_function(fname,lname,address,email,phone_number):\n",
        "    return fname,lname,address,email,phone_number"
      ],
      "metadata": {
        "id": "cmY9ZcroRnRk"
      },
      "execution_count": 21,
      "outputs": []
    },
    {
      "cell_type": "code",
      "source": [
        "fname,lname,address,email,phone_number = Ourmentors_function(\"Name1\",\"LName1\",\"Address1\",\"Email1\",\"ph1\")"
      ],
      "metadata": {
        "id": "MALyH8GQSVAO"
      },
      "execution_count": 23,
      "outputs": []
    },
    {
      "cell_type": "code",
      "source": [
        "fname"
      ],
      "metadata": {
        "colab": {
          "base_uri": "https://localhost:8080/",
          "height": 36
        },
        "id": "nwGvDv4FSbo6",
        "outputId": "79a3875f-f15b-48da-db6a-c18c2ff174c5"
      },
      "execution_count": 24,
      "outputs": [
        {
          "output_type": "execute_result",
          "data": {
            "text/plain": [
              "'Name1'"
            ],
            "application/vnd.google.colaboratory.intrinsic+json": {
              "type": "string"
            }
          },
          "metadata": {},
          "execution_count": 24
        }
      ]
    },
    {
      "cell_type": "code",
      "source": [
        "lname"
      ],
      "metadata": {
        "colab": {
          "base_uri": "https://localhost:8080/",
          "height": 36
        },
        "id": "VG8mmZOGSeCg",
        "outputId": "de1213d2-1476-4186-810b-3ac282c4d4b0"
      },
      "execution_count": 25,
      "outputs": [
        {
          "output_type": "execute_result",
          "data": {
            "text/plain": [
              "'LName1'"
            ],
            "application/vnd.google.colaboratory.intrinsic+json": {
              "type": "string"
            }
          },
          "metadata": {},
          "execution_count": 25
        }
      ]
    },
    {
      "cell_type": "code",
      "source": [
        "fname,lname,address,email,phone_number = Ourmentors_function(\"Name2\",\"LName2\",\"Address2\",\"Email2\",\"ph2\")"
      ],
      "metadata": {
        "id": "t6fxbj3SMuFY"
      },
      "execution_count": 26,
      "outputs": []
    },
    {
      "cell_type": "markdown",
      "source": [
        "# **Inheritence**"
      ],
      "metadata": {
        "id": "FDxf32quW9Cy"
      }
    },
    {
      "cell_type": "code",
      "source": [
        "# parent class\n",
        "class Person(object):\n",
        "\t# __init__ is known as the constructor\n",
        "\tdef __init__(self, name, idnumber):\n",
        "\t\tself.name = name\n",
        "\t\tself.idnumber = idnumber\n",
        "\n",
        "\tdef display(self):\n",
        "\t\tprint(self.name)\n",
        "\t\tprint(self.idnumber)\n",
        "\t\t\n",
        "\tdef details(self):\n",
        "\t\tprint(\"My name is {}\".format(self.name))\n",
        "\t\tprint(\"IdNumber: {}\".format(self.idnumber))"
      ],
      "metadata": {
        "id": "XF-xM9QlW-qi"
      },
      "execution_count": 27,
      "outputs": []
    },
    {
      "cell_type": "code",
      "source": [
        "# child class\n",
        "class Employee(Person):\n",
        "\tdef __init__(self, name, idnumber, salary, post):\n",
        "\t\tself.salary = salary\n",
        "\t\tself.post = post\n",
        "\n",
        "\t\t# invoking the __init__ of the parent class\n",
        "\t\tPerson.__init__(self, name, idnumber)\n",
        "\t\t\n",
        "\tdef details(self):\n",
        "\t\tprint(\"My name is {}\".format(self.name))\n",
        "\t\tprint(\"IdNumber: {}\".format(self.idnumber))\n",
        "\t\tprint(\"Post: {}\".format(self.post))"
      ],
      "metadata": {
        "id": "I-FUbCRiXQ6J"
      },
      "execution_count": 28,
      "outputs": []
    },
    {
      "cell_type": "code",
      "source": [
        "a1 = Person(\"Ourmentors\",100)"
      ],
      "metadata": {
        "id": "xtwmQjrrXrqF"
      },
      "execution_count": 29,
      "outputs": []
    },
    {
      "cell_type": "code",
      "source": [
        "print(a1.name)\n",
        "print(a1.idnumber)"
      ],
      "metadata": {
        "colab": {
          "base_uri": "https://localhost:8080/"
        },
        "id": "81bo55biXz9b",
        "outputId": "a5325479-be0c-4ba4-aaf5-216ff4c18465"
      },
      "execution_count": 30,
      "outputs": [
        {
          "output_type": "stream",
          "name": "stdout",
          "text": [
            "Ourmentors\n",
            "100\n"
          ]
        }
      ]
    },
    {
      "cell_type": "code",
      "source": [
        "a1.display()"
      ],
      "metadata": {
        "colab": {
          "base_uri": "https://localhost:8080/"
        },
        "id": "KkKk2AzTYAlO",
        "outputId": "1b53768c-6857-4e4d-9b5d-b0e41aa0a06f"
      },
      "execution_count": 31,
      "outputs": [
        {
          "output_type": "stream",
          "name": "stdout",
          "text": [
            "Ourmentors\n",
            "100\n"
          ]
        }
      ]
    },
    {
      "cell_type": "code",
      "source": [
        "a1.details()"
      ],
      "metadata": {
        "colab": {
          "base_uri": "https://localhost:8080/"
        },
        "id": "Q88JG6GeYEi9",
        "outputId": "5569bcf2-83b5-4ffa-d785-5b7ca418c18c"
      },
      "execution_count": 32,
      "outputs": [
        {
          "output_type": "stream",
          "name": "stdout",
          "text": [
            "My name is Ourmentors\n",
            "IdNumber: 100\n"
          ]
        }
      ]
    },
    {
      "cell_type": "code",
      "source": [
        "# creation of an object variable or an instance\n",
        "a2 = Employee('Ashutosh', 49281612, 652300, \"Intern\")"
      ],
      "metadata": {
        "id": "kDh2ewtsSfRG"
      },
      "execution_count": 33,
      "outputs": []
    },
    {
      "cell_type": "code",
      "source": [
        "a2.details()"
      ],
      "metadata": {
        "colab": {
          "base_uri": "https://localhost:8080/"
        },
        "id": "TeWjMiQFYVpc",
        "outputId": "4064402b-bc7b-4f92-9d69-bbe8d12166de"
      },
      "execution_count": 34,
      "outputs": [
        {
          "output_type": "stream",
          "name": "stdout",
          "text": [
            "My name is Ashutosh\n",
            "IdNumber: 49281612\n",
            "Post: Intern\n"
          ]
        }
      ]
    },
    {
      "cell_type": "code",
      "source": [
        "# calling a function of the class Person using\n",
        "# its instance\n",
        "a2.display()"
      ],
      "metadata": {
        "colab": {
          "base_uri": "https://localhost:8080/"
        },
        "id": "mg-tXLgRYQQx",
        "outputId": "d8d470c7-bbc6-47cd-9f8b-24d0a4e27d8a"
      },
      "execution_count": 35,
      "outputs": [
        {
          "output_type": "stream",
          "name": "stdout",
          "text": [
            "Ashutosh\n",
            "49281612\n"
          ]
        }
      ]
    },
    {
      "cell_type": "markdown",
      "source": [
        "# **Polymorphism**"
      ],
      "metadata": {
        "id": "W-iBzOCsbNID"
      }
    },
    {
      "cell_type": "code",
      "source": [
        "class Bird:\n",
        "\tdef intro(self):\n",
        "\t\tprint(\"There are many types of birds.\")\n",
        "\tdef flight(self):\n",
        "\t\tprint(\"Most of the birds can fly but some cannot.\")"
      ],
      "metadata": {
        "id": "gKwW0wSxbTJd"
      },
      "execution_count": 36,
      "outputs": []
    },
    {
      "cell_type": "code",
      "source": [
        "# Eagle class that inherits from the props of class Bird\n",
        "class Eagle(Bird):\n",
        "\tdef flight(self):\n",
        "\t\tprint(\"Eagle can fly.\")"
      ],
      "metadata": {
        "id": "cJrQGqP7bfFB"
      },
      "execution_count": 43,
      "outputs": []
    },
    {
      "cell_type": "code",
      "source": [
        "class Hen(Bird):\n",
        "\tdef flight(self):\n",
        "\t\tprint(\"Hen cannot fly.\")"
      ],
      "metadata": {
        "id": "Sg98SCN5bm-i"
      },
      "execution_count": 44,
      "outputs": []
    },
    {
      "cell_type": "code",
      "source": [
        "obj_bird = Bird()\n",
        "obj_Egl = Eagle()\n",
        "obj_Hn = Hen()"
      ],
      "metadata": {
        "id": "6-1MVddHbpbb"
      },
      "execution_count": 45,
      "outputs": []
    },
    {
      "cell_type": "code",
      "source": [
        "obj_bird.intro()\n",
        "obj_bird.flight()"
      ],
      "metadata": {
        "colab": {
          "base_uri": "https://localhost:8080/"
        },
        "id": "ynRfUqFbbt2W",
        "outputId": "6cac193c-74b0-4c09-f33a-03fa0c59bc26"
      },
      "execution_count": 46,
      "outputs": [
        {
          "output_type": "stream",
          "name": "stdout",
          "text": [
            "There are many types of birds.\n",
            "Most of the birds can fly but some cannot.\n"
          ]
        }
      ]
    },
    {
      "cell_type": "code",
      "source": [
        "obj_Egl.intro()\n",
        "obj_Egl.flight()"
      ],
      "metadata": {
        "colab": {
          "base_uri": "https://localhost:8080/"
        },
        "id": "cal7RvF_b1Ys",
        "outputId": "2884fa24-0955-461c-88bc-1e7c0d07f452"
      },
      "execution_count": 48,
      "outputs": [
        {
          "output_type": "stream",
          "name": "stdout",
          "text": [
            "There are many types of birds.\n",
            "Eagle can fly.\n"
          ]
        }
      ]
    },
    {
      "cell_type": "code",
      "source": [
        "obj_Hn.intro()\n",
        "obj_Hn.flight()"
      ],
      "metadata": {
        "colab": {
          "base_uri": "https://localhost:8080/"
        },
        "id": "R-C00YGqYdNr",
        "outputId": "9081c3dc-e718-40a5-de07-fac4a6b4b54c"
      },
      "execution_count": 49,
      "outputs": [
        {
          "output_type": "stream",
          "name": "stdout",
          "text": [
            "There are many types of birds.\n",
            "Hen cannot fly.\n"
          ]
        }
      ]
    },
    {
      "cell_type": "markdown",
      "source": [
        "# **Encapsulation**"
      ],
      "metadata": {
        "id": "DRivj0dWdf6C"
      }
    },
    {
      "cell_type": "code",
      "source": [
        "# Python program to\n",
        "# demonstrate private members\n",
        "# Creating a Base class\n",
        "class Base:\n",
        "\tdef __init__(self):\n",
        "\t\tself.a = \"GeeksforGeeks\"\n",
        "\t\tself.c = \"GeeksforGeeks\""
      ],
      "metadata": {
        "id": "Qx4dv8VydjS8"
      },
      "execution_count": 64,
      "outputs": []
    },
    {
      "cell_type": "code",
      "source": [
        "# Creating a derived class\n",
        "class Derived(Base):\n",
        "\tdef __init__(self):\n",
        "\t\t# Calling constructor of\n",
        "\t\t# Base class\n",
        "\t\tBase.__init__(self)\n",
        "\t\tprint(\"Calling private member of base class: \")\n",
        "\t\tprint(self.c)"
      ],
      "metadata": {
        "id": "TylLfeA0dstk"
      },
      "execution_count": 65,
      "outputs": []
    },
    {
      "cell_type": "code",
      "source": [
        "obj1 = Base()\n",
        "print(obj1.a)"
      ],
      "metadata": {
        "colab": {
          "base_uri": "https://localhost:8080/"
        },
        "id": "tTSSWGVJdwQI",
        "outputId": "ca2ad122-9d4f-4a98-8682-cc74f0210974"
      },
      "execution_count": 66,
      "outputs": [
        {
          "output_type": "stream",
          "name": "stdout",
          "text": [
            "GeeksforGeeks\n"
          ]
        }
      ]
    },
    {
      "cell_type": "code",
      "source": [
        "print(obj1.c)"
      ],
      "metadata": {
        "colab": {
          "base_uri": "https://localhost:8080/"
        },
        "id": "vss734FTd3cA",
        "outputId": "057dd209-4608-4559-d913-abaf1e1bea3d"
      },
      "execution_count": 67,
      "outputs": [
        {
          "output_type": "stream",
          "name": "stdout",
          "text": [
            "GeeksforGeeks\n"
          ]
        }
      ]
    },
    {
      "cell_type": "code",
      "source": [
        "obj1 = Derived()"
      ],
      "metadata": {
        "colab": {
          "base_uri": "https://localhost:8080/"
        },
        "id": "XuE6nWBad7zO",
        "outputId": "f7d18e5d-35ba-4423-ee29-1bd41bad0073"
      },
      "execution_count": 68,
      "outputs": [
        {
          "output_type": "stream",
          "name": "stdout",
          "text": [
            "Calling private member of base class: \n",
            "GeeksforGeeks\n"
          ]
        }
      ]
    },
    {
      "cell_type": "code",
      "source": [
        "# Driver code\n",
        "obj1 = Base()\n",
        "print(obj1.a)\n",
        "\n",
        "# Uncommenting print(obj1.c) will\n",
        "# raise an AttributeError\n",
        "\n",
        "# Uncommenting obj2 = Derived() will\n",
        "# also raise an AtrributeError as\n",
        "# private member of base class\n",
        "# is called inside derived class"
      ],
      "metadata": {
        "id": "ksonJkU1b20s",
        "colab": {
          "base_uri": "https://localhost:8080/"
        },
        "outputId": "911924f1-6cc4-493e-9dd8-d5ceb156a68f"
      },
      "execution_count": 69,
      "outputs": [
        {
          "output_type": "stream",
          "name": "stdout",
          "text": [
            "GeeksforGeeks\n"
          ]
        }
      ]
    },
    {
      "cell_type": "markdown",
      "source": [
        "# **Data Abstraction**"
      ],
      "metadata": {
        "id": "EjsarW_hekP5"
      }
    },
    {
      "cell_type": "code",
      "source": [
        "class MyClass:\n",
        "\n",
        "\t# Hidden member of MyClass\n",
        "\thiddenVariable = 0\n",
        "\t\n",
        "\t# A member method that changes\n",
        "\t# hiddenVariable\n",
        "\tdef add(self, increment):\n",
        "\t\tself.hiddenVariable += increment\n",
        "\t\tprint (self.hiddenVariable)\n",
        "\n",
        "# Driver code\n",
        "myObject = MyClass()\t\n",
        "myObject.add(9)\n",
        "myObject.add(4)"
      ],
      "metadata": {
        "colab": {
          "base_uri": "https://localhost:8080/"
        },
        "id": "Ub1wD-J0enmi",
        "outputId": "b3b6e79c-accc-4ac0-a7aa-5533f707731f"
      },
      "execution_count": 74,
      "outputs": [
        {
          "output_type": "stream",
          "name": "stdout",
          "text": [
            "9\n",
            "13\n"
          ]
        }
      ]
    },
    {
      "cell_type": "code",
      "source": [
        "# This line causes error\n",
        "print(myObject.hiddenVariable)"
      ],
      "metadata": {
        "colab": {
          "base_uri": "https://localhost:8080/"
        },
        "id": "CBZrZn0xfifF",
        "outputId": "4ff00daf-e0e9-4bc6-a63e-793702a53d48"
      },
      "execution_count": 75,
      "outputs": [
        {
          "output_type": "stream",
          "name": "stdout",
          "text": [
            "13\n"
          ]
        }
      ]
    }
  ]
}