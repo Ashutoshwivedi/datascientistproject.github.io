{
  "nbformat": 4,
  "nbformat_minor": 0,
  "metadata": {
    "colab": {
      "provenance": []
    },
    "kernelspec": {
      "name": "python3",
      "display_name": "Python 3"
    },
    "language_info": {
      "name": "python"
    }
  },
  "cells": [
    {
      "cell_type": "markdown",
      "source": [
        "**Command to Install Numpy**"
      ],
      "metadata": {
        "id": "7uO-CIqUnpGX"
      }
    },
    {
      "cell_type": "code",
      "execution_count": 3,
      "metadata": {
        "id": "p_lKCeRAnIkH"
      },
      "outputs": [],
      "source": [
        "# pip install numpy <For Local System>\n",
        "# !pip install numpy <For Google Colab>"
      ]
    },
    {
      "cell_type": "markdown",
      "source": [
        "**Import Numpy**"
      ],
      "metadata": {
        "id": "KBP3qgBMn7Bj"
      }
    },
    {
      "cell_type": "code",
      "source": [
        "import numpy as np # We use numpy as np as a standard protocol"
      ],
      "metadata": {
        "id": "TbXJMtCHn4XF"
      },
      "execution_count": 4,
      "outputs": []
    },
    {
      "cell_type": "markdown",
      "source": [
        "Create an array using Numpy"
      ],
      "metadata": {
        "id": "6oaaFbOzoHSl"
      }
    },
    {
      "cell_type": "code",
      "source": [
        "arr = np.array([1, 2, 3, 4, 5, 6, 7])\n",
        "print(arr)"
      ],
      "metadata": {
        "colab": {
          "base_uri": "https://localhost:8080/"
        },
        "id": "nqnsDd3wn9Fu",
        "outputId": "36a5f703-20dd-4215-a8b1-a5fecf89fedf"
      },
      "execution_count": 37,
      "outputs": [
        {
          "output_type": "stream",
          "name": "stdout",
          "text": [
            "[1 2 3 4 5 6 7]\n"
          ]
        }
      ]
    },
    {
      "cell_type": "code",
      "source": [
        "print(type(arr)) # The type of arr is an Numpy ndarray where 'nd' stands for <n dimentional>"
      ],
      "metadata": {
        "colab": {
          "base_uri": "https://localhost:8080/"
        },
        "id": "qZMGFGRWoSU-",
        "outputId": "20506f2f-c80f-4ad8-e45c-a719d93d5587"
      },
      "execution_count": 6,
      "outputs": [
        {
          "output_type": "stream",
          "name": "stdout",
          "text": [
            "<class 'numpy.ndarray'>\n"
          ]
        }
      ]
    },
    {
      "cell_type": "markdown",
      "source": [
        "Use a tuple to create a NumPy array:"
      ],
      "metadata": {
        "id": "4_FnZLz0omQF"
      }
    },
    {
      "cell_type": "code",
      "source": [
        "arr = np.array((1, 2, 3, 4, 5, 6, 7))\n",
        "print(arr)"
      ],
      "metadata": {
        "colab": {
          "base_uri": "https://localhost:8080/"
        },
        "id": "SmCfzdHtoVPJ",
        "outputId": "d0fc26b4-efd0-4f35-efba-1c684b68d12f"
      },
      "execution_count": 38,
      "outputs": [
        {
          "output_type": "stream",
          "name": "stdout",
          "text": [
            "[1 2 3 4 5 6 7]\n"
          ]
        }
      ]
    },
    {
      "cell_type": "code",
      "source": [
        "arr = np.array(86)\n",
        "\n",
        "print(arr)"
      ],
      "metadata": {
        "colab": {
          "base_uri": "https://localhost:8080/"
        },
        "id": "RSwrDzzSopbU",
        "outputId": "ed6d24e9-2c30-41ad-eef9-56f8d5d2f189"
      },
      "execution_count": 39,
      "outputs": [
        {
          "output_type": "stream",
          "name": "stdout",
          "text": [
            "86\n"
          ]
        }
      ]
    },
    {
      "cell_type": "code",
      "source": [
        "arr = np.array([[1, 2, 3, 4], [4, 5, 6, 7]])\n",
        "print(arr)"
      ],
      "metadata": {
        "colab": {
          "base_uri": "https://localhost:8080/"
        },
        "id": "tZ1eOYz-3DQW",
        "outputId": "7f9fd42b-3e04-4450-8fb8-6790ffcbdeee"
      },
      "execution_count": 40,
      "outputs": [
        {
          "output_type": "stream",
          "name": "stdout",
          "text": [
            "[[1 2 3 4]\n",
            " [4 5 6 7]]\n"
          ]
        }
      ]
    },
    {
      "cell_type": "code",
      "source": [
        "arr = np.array([[[1, 2, 3, 4], [4, 5, 6, 7]], [[1, 2, 3, 4], [4, 5, 6, 7]]])\n",
        "print(arr)"
      ],
      "metadata": {
        "colab": {
          "base_uri": "https://localhost:8080/"
        },
        "id": "YrWOOBW63Npt",
        "outputId": "63dbad92-4b3d-4490-d23c-2fb1adb2c416"
      },
      "execution_count": 41,
      "outputs": [
        {
          "output_type": "stream",
          "name": "stdout",
          "text": [
            "[[[1 2 3 4]\n",
            "  [4 5 6 7]]\n",
            "\n",
            " [[1 2 3 4]\n",
            "  [4 5 6 7]]]\n"
          ]
        }
      ]
    },
    {
      "cell_type": "code",
      "source": [
        "a = np.array(86)\n",
        "b = np.array([1, 2, 3, 4, 5, 6, 7])\n",
        "c = np.array([[1, 2, 3, 4], [4, 5, 6, 7]])\n",
        "d = np.array([[[1, 2, 3, 4], [4, 5, 6, 7]], [[1, 2, 3, 4], [4, 5, 6, 7]]])\n",
        "\n",
        "print(a.ndim)\n",
        "print(b.ndim)\n",
        "print(c.ndim)\n",
        "print(d.ndim)\n"
      ],
      "metadata": {
        "colab": {
          "base_uri": "https://localhost:8080/"
        },
        "id": "Dpwu-xIG3UWQ",
        "outputId": "5eac5fcd-e54b-4bda-8d3a-2009a3004cff"
      },
      "execution_count": 44,
      "outputs": [
        {
          "output_type": "stream",
          "name": "stdout",
          "text": [
            "0\n",
            "1\n",
            "2\n",
            "3\n"
          ]
        }
      ]
    },
    {
      "cell_type": "code",
      "source": [
        "arr = np.array([[1, 2, 3, 4],\n",
        "                [4, 5, 6, 7]], ndmin=6)"
      ],
      "metadata": {
        "id": "7tzQoHZm3dr-"
      },
      "execution_count": 45,
      "outputs": []
    },
    {
      "cell_type": "code",
      "source": [
        "print(arr)"
      ],
      "metadata": {
        "colab": {
          "base_uri": "https://localhost:8080/"
        },
        "id": "QfXk_U1t3r6a",
        "outputId": "5cdc25f8-d714-4e82-8944-8e81d8cd8e6c"
      },
      "execution_count": 46,
      "outputs": [
        {
          "output_type": "stream",
          "name": "stdout",
          "text": [
            "[[[[[[1 2 3 4]\n",
            "     [4 5 6 7]]]]]]\n"
          ]
        }
      ]
    },
    {
      "cell_type": "code",
      "source": [
        "print('number of dimensions :', arr.ndim)"
      ],
      "metadata": {
        "colab": {
          "base_uri": "https://localhost:8080/"
        },
        "id": "QXqVSZEy3rBi",
        "outputId": "1b3f5bc1-5d0d-448a-cf7f-7e62de3b5a65"
      },
      "execution_count": 47,
      "outputs": [
        {
          "output_type": "stream",
          "name": "stdout",
          "text": [
            "number of dimensions : 6\n"
          ]
        }
      ]
    },
    {
      "cell_type": "code",
      "source": [
        "arr = np.array([1, 2, 3, 4])\n",
        "print(arr[0])"
      ],
      "metadata": {
        "colab": {
          "base_uri": "https://localhost:8080/"
        },
        "id": "T_-qg0Aq4dHa",
        "outputId": "7b000f5a-6922-4297-ddb2-a2836cd0c105"
      },
      "execution_count": 49,
      "outputs": [
        {
          "output_type": "stream",
          "name": "stdout",
          "text": [
            "1\n"
          ]
        }
      ]
    },
    {
      "cell_type": "code",
      "source": [
        "arr = np.array([1, 2, 3, 4])\n",
        "print(arr[2])"
      ],
      "metadata": {
        "colab": {
          "base_uri": "https://localhost:8080/"
        },
        "id": "XHffzezyRWAv",
        "outputId": "e8c67073-570d-470f-d7ca-5828562a7c2c"
      },
      "execution_count": 50,
      "outputs": [
        {
          "output_type": "stream",
          "name": "stdout",
          "text": [
            "3\n"
          ]
        }
      ]
    },
    {
      "cell_type": "code",
      "source": [
        "arr = np.array([1, 2, 3, 4])\n",
        "print(arr[3])"
      ],
      "metadata": {
        "colab": {
          "base_uri": "https://localhost:8080/"
        },
        "id": "2TdxB-iFRZUu",
        "outputId": "6822f2e1-0394-4980-a5db-7bacd2a939f5"
      },
      "execution_count": 52,
      "outputs": [
        {
          "output_type": "stream",
          "name": "stdout",
          "text": [
            "4\n"
          ]
        }
      ]
    },
    {
      "cell_type": "code",
      "source": [
        "import numpy as np\n",
        "arr = np.array([[1,2,3,4,5],\n",
        "                [6,7,8,9,10]])\n",
        "print(arr)\n",
        "print(arr.shape)\n",
        "print(arr.ndim)\n",
        "print('3rd element on 1st row: ', arr[1, 3])"
      ],
      "metadata": {
        "colab": {
          "base_uri": "https://localhost:8080/"
        },
        "id": "mX2EswYI4hlf",
        "outputId": "fc19e43c-986b-49ea-b035-210ee92ad250"
      },
      "execution_count": 60,
      "outputs": [
        {
          "output_type": "stream",
          "name": "stdout",
          "text": [
            "[[ 1  2  3  4  5]\n",
            " [ 6  7  8  9 10]]\n",
            "(2, 5)\n",
            "2\n",
            "3rd element on 1st row:  9\n"
          ]
        }
      ]
    },
    {
      "cell_type": "markdown",
      "source": [
        "- In python indexes start from 0 not from 1.\n"
      ],
      "metadata": {
        "id": "Ru8hDTP_4jtN"
      }
    },
    {
      "cell_type": "code",
      "source": [
        "arr = np.array([[1,2,3,4,5], [6,7,8,9,10]])\n",
        "print(arr)\n",
        "print(arr.ndim)\n",
        "print('5th element on 2nd row: ', arr[1, 4])"
      ],
      "metadata": {
        "colab": {
          "base_uri": "https://localhost:8080/"
        },
        "id": "phyQuktn4qFJ",
        "outputId": "06a27652-1742-4c2f-db3a-943a6cac6cb2"
      },
      "execution_count": 61,
      "outputs": [
        {
          "output_type": "stream",
          "name": "stdout",
          "text": [
            "[[ 1  2  3  4  5]\n",
            " [ 6  7  8  9 10]]\n",
            "2\n",
            "5th element on 2nd row:  10\n"
          ]
        }
      ]
    },
    {
      "cell_type": "code",
      "source": [
        "arr = np.array([[1,2,3,4,5], [6,7,8,9,10]])\n",
        "print(arr)\n",
        "print(arr.ndim)\n",
        "print('Last element from 2nd dim: ', arr[1, -2])\n",
        "# arr[0, -2]"
      ],
      "metadata": {
        "colab": {
          "base_uri": "https://localhost:8080/"
        },
        "id": "xHl662ts5MWd",
        "outputId": "efa98944-8546-4b3c-f0a5-9106002a9963"
      },
      "execution_count": 64,
      "outputs": [
        {
          "output_type": "stream",
          "name": "stdout",
          "text": [
            "[[ 1  2  3  4  5]\n",
            " [ 6  7  8  9 10]]\n",
            "2\n",
            "Last element from 2nd dim:  9\n"
          ]
        }
      ]
    },
    {
      "cell_type": "code",
      "source": [
        "arr = np.array([1, 2, 3, 4, 5, 6, 7])\n",
        "print(arr)\n",
        "print(arr[3:6])"
      ],
      "metadata": {
        "colab": {
          "base_uri": "https://localhost:8080/"
        },
        "id": "d7Wr4PAL5bru",
        "outputId": "5054c341-20e3-422f-ffba-0de1a64faa36"
      },
      "execution_count": 67,
      "outputs": [
        {
          "output_type": "stream",
          "name": "stdout",
          "text": [
            "[1 2 3 4 5 6 7]\n",
            "[4 5 6]\n"
          ]
        }
      ]
    },
    {
      "cell_type": "code",
      "source": [
        "arr = np.array([1, 2, 3, 4, 5, 6, 7])\n",
        "print(arr)\n",
        "print(arr[3:])"
      ],
      "metadata": {
        "colab": {
          "base_uri": "https://localhost:8080/"
        },
        "id": "C8BCeICR5yDN",
        "outputId": "818516d1-12b7-4109-8814-5b828a26fc8d"
      },
      "execution_count": 70,
      "outputs": [
        {
          "output_type": "stream",
          "name": "stdout",
          "text": [
            "[1 2 3 4 5 6 7]\n",
            "[4 5 6 7]\n"
          ]
        }
      ]
    },
    {
      "cell_type": "code",
      "source": [
        "arr = np.array([1, 2, 3, 4, 5, 6, 7])\n",
        "print(arr)\n",
        "print(arr[:5])"
      ],
      "metadata": {
        "colab": {
          "base_uri": "https://localhost:8080/"
        },
        "id": "x68RrB4g6Xia",
        "outputId": "8224c5f8-1c0c-4e49-bdbd-f35f88532408"
      },
      "execution_count": 71,
      "outputs": [
        {
          "output_type": "stream",
          "name": "stdout",
          "text": [
            "[1 2 3 4 5 6 7]\n",
            "[1 2 3 4 5]\n"
          ]
        }
      ]
    },
    {
      "cell_type": "code",
      "source": [
        "arr = np.array([1, 2, 3, 4])\n",
        "print(arr)\n",
        "print(arr.dtype)"
      ],
      "metadata": {
        "colab": {
          "base_uri": "https://localhost:8080/"
        },
        "id": "ZwUBmUEu6sL2",
        "outputId": "bf345d82-5b73-4d18-ee20-e6805102cdbb"
      },
      "execution_count": 72,
      "outputs": [
        {
          "output_type": "stream",
          "name": "stdout",
          "text": [
            "[1 2 3 4]\n",
            "int64\n"
          ]
        }
      ]
    },
    {
      "cell_type": "code",
      "source": [
        "arr = np.array(['gavava', 'grapes', 'lichi'])\n",
        "print(arr)\n",
        "print(arr.dtype)"
      ],
      "metadata": {
        "colab": {
          "base_uri": "https://localhost:8080/"
        },
        "id": "7izbI5qT7kQ1",
        "outputId": "8ff17a98-0e97-406e-f196-5c27139308e9"
      },
      "execution_count": 73,
      "outputs": [
        {
          "output_type": "stream",
          "name": "stdout",
          "text": [
            "['gavava' 'grapes' 'lichi']\n",
            "<U6\n"
          ]
        }
      ]
    },
    {
      "cell_type": "code",
      "source": [
        "arr = np.array([1, 2, 3, 4], dtype='S')\n",
        "\n",
        "print(arr)\n",
        "print(arr.dtype)"
      ],
      "metadata": {
        "colab": {
          "base_uri": "https://localhost:8080/"
        },
        "id": "M0gAJbc68FFN",
        "outputId": "3e336c55-0151-487a-c4ff-eeab3aab5488"
      },
      "execution_count": 77,
      "outputs": [
        {
          "output_type": "stream",
          "name": "stdout",
          "text": [
            "[b'1' b'2' b'3' b'4']\n",
            "|S1\n"
          ]
        }
      ]
    },
    {
      "cell_type": "code",
      "source": [
        "arr = np.array([[1, 2, 3, 4],\n",
        "                [5, 6, 7, 8]])\n",
        "print(arr)\n",
        "print(arr.shape)"
      ],
      "metadata": {
        "colab": {
          "base_uri": "https://localhost:8080/"
        },
        "id": "OSEPMeHq8Mq9",
        "outputId": "db0ae355-dbc6-4a28-db8b-3c078b549574"
      },
      "execution_count": 78,
      "outputs": [
        {
          "output_type": "stream",
          "name": "stdout",
          "text": [
            "[[1 2 3 4]\n",
            " [5 6 7 8]]\n",
            "(2, 4)\n"
          ]
        }
      ]
    },
    {
      "cell_type": "code",
      "source": [
        "arr = np.array([[1, 2, 3, 4, 5],\n",
        "                [5, 6, 7, 8, 9]])\n",
        "print(arr)\n",
        "print(arr.shape)"
      ],
      "metadata": {
        "colab": {
          "base_uri": "https://localhost:8080/"
        },
        "id": "O9kmbibRS_Gm",
        "outputId": "ee956896-1265-4fd0-bd08-f4989d18b1e5"
      },
      "execution_count": 79,
      "outputs": [
        {
          "output_type": "stream",
          "name": "stdout",
          "text": [
            "[[1 2 3 4 5]\n",
            " [5 6 7 8 9]]\n",
            "(2, 5)\n"
          ]
        }
      ]
    },
    {
      "cell_type": "code",
      "source": [
        "arr = np.array([[1, 2, 3, 4, 5, 6],\n",
        "                ])\n",
        "print(arr)\n",
        "print(arr.shape)"
      ],
      "metadata": {
        "colab": {
          "base_uri": "https://localhost:8080/"
        },
        "id": "I63cQFaGTHQS",
        "outputId": "1d8e0734-27be-44e1-cd34-1310560d76eb"
      },
      "execution_count": 81,
      "outputs": [
        {
          "output_type": "stream",
          "name": "stdout",
          "text": [
            "[[1 2 3 4 5 6]]\n",
            "(1, 6)\n"
          ]
        }
      ]
    },
    {
      "cell_type": "code",
      "source": [
        "arr = np.array([1, 2, 3, 4, 5], ndmin=6)\n",
        "\n",
        "print(arr)\n",
        "print('shape of array :', arr.shape)"
      ],
      "metadata": {
        "colab": {
          "base_uri": "https://localhost:8080/"
        },
        "id": "pGejwTdF82uO",
        "outputId": "c89ed7a7-c60d-4354-dbad-cf106e62258d"
      },
      "execution_count": 84,
      "outputs": [
        {
          "output_type": "stream",
          "name": "stdout",
          "text": [
            "[[[[[[1 2 3 4 5]]]]]]\n",
            "shape of array : (1, 1, 1, 1, 1, 5)\n"
          ]
        }
      ]
    },
    {
      "cell_type": "code",
      "source": [
        "arr = np.array([1, 2, 3, 4, 5, 6, 7, 8, 9, 10, 11, 12])\n",
        "print(arr)\n",
        "arr.shape"
      ],
      "metadata": {
        "colab": {
          "base_uri": "https://localhost:8080/"
        },
        "id": "__Oz-5W59AYg",
        "outputId": "a704cab3-94bf-43fe-af4e-35dabe362711"
      },
      "execution_count": 96,
      "outputs": [
        {
          "output_type": "stream",
          "name": "stdout",
          "text": [
            "[ 1  2  3  4  5  6  7  8  9 10 11 12]\n"
          ]
        },
        {
          "output_type": "execute_result",
          "data": {
            "text/plain": [
              "(12,)"
            ]
          },
          "metadata": {},
          "execution_count": 96
        }
      ]
    },
    {
      "cell_type": "code",
      "source": [
        "newarr = arr.reshape(4, 3)\n",
        "print(newarr)\n",
        "newarr.shape"
      ],
      "metadata": {
        "colab": {
          "base_uri": "https://localhost:8080/"
        },
        "id": "p-q-_nWs975S",
        "outputId": "bff0b3bf-050e-47eb-f797-5e5caaa4b096"
      },
      "execution_count": 97,
      "outputs": [
        {
          "output_type": "stream",
          "name": "stdout",
          "text": [
            "[[ 1  2  3]\n",
            " [ 4  5  6]\n",
            " [ 7  8  9]\n",
            " [10 11 12]]\n"
          ]
        },
        {
          "output_type": "execute_result",
          "data": {
            "text/plain": [
              "(4, 3)"
            ]
          },
          "metadata": {},
          "execution_count": 97
        }
      ]
    },
    {
      "cell_type": "code",
      "source": [
        "arr = np.array([1, 2, 3, 4, 5, 6, 7, 8, 9, 10, 11, 12, 13, 14, 15 ,16])\n",
        "print(arr)\n",
        "arr.shape"
      ],
      "metadata": {
        "colab": {
          "base_uri": "https://localhost:8080/"
        },
        "id": "NX9lUJ48UAu3",
        "outputId": "ea458ed3-cd62-475d-d367-95af7940c628"
      },
      "execution_count": 98,
      "outputs": [
        {
          "output_type": "stream",
          "name": "stdout",
          "text": [
            "[ 1  2  3  4  5  6  7  8  9 10 11 12 13 14 15 16]\n"
          ]
        },
        {
          "output_type": "execute_result",
          "data": {
            "text/plain": [
              "(16,)"
            ]
          },
          "metadata": {},
          "execution_count": 98
        }
      ]
    },
    {
      "cell_type": "code",
      "source": [
        "newarr = arr.reshape(4, 4)\n",
        "print(newarr)\n",
        "newarr.shape"
      ],
      "metadata": {
        "colab": {
          "base_uri": "https://localhost:8080/"
        },
        "id": "pEoOJclHUIE9",
        "outputId": "fc51fac7-8e9e-4268-c3de-91a3c457c367"
      },
      "execution_count": 101,
      "outputs": [
        {
          "output_type": "stream",
          "name": "stdout",
          "text": [
            "[[ 1  2  3  4]\n",
            " [ 5  6  7  8]\n",
            " [ 9 10 11 12]\n",
            " [13 14 15 16]]\n"
          ]
        },
        {
          "output_type": "execute_result",
          "data": {
            "text/plain": [
              "(4, 4)"
            ]
          },
          "metadata": {},
          "execution_count": 101
        }
      ]
    },
    {
      "cell_type": "code",
      "source": [
        "newarr = arr.reshape(8, 2)\n",
        "print(newarr)\n",
        "newarr.shape"
      ],
      "metadata": {
        "colab": {
          "base_uri": "https://localhost:8080/"
        },
        "id": "yn_qFw1KUPVA",
        "outputId": "d150c3e9-36d2-4fa4-ec4b-6b52388d7b3f"
      },
      "execution_count": 102,
      "outputs": [
        {
          "output_type": "stream",
          "name": "stdout",
          "text": [
            "[[ 1  2]\n",
            " [ 3  4]\n",
            " [ 5  6]\n",
            " [ 7  8]\n",
            " [ 9 10]\n",
            " [11 12]\n",
            " [13 14]\n",
            " [15 16]]\n"
          ]
        },
        {
          "output_type": "execute_result",
          "data": {
            "text/plain": [
              "(8, 2)"
            ]
          },
          "metadata": {},
          "execution_count": 102
        }
      ]
    },
    {
      "cell_type": "code",
      "source": [
        "newarr = arr.reshape(2, 8)\n",
        "print(newarr)\n",
        "newarr.shape"
      ],
      "metadata": {
        "colab": {
          "base_uri": "https://localhost:8080/"
        },
        "id": "XK9JBJ4NUU9o",
        "outputId": "63c45e6e-7a26-465e-de7a-9898b3ed7e7a"
      },
      "execution_count": 103,
      "outputs": [
        {
          "output_type": "stream",
          "name": "stdout",
          "text": [
            "[[ 1  2  3  4  5  6  7  8]\n",
            " [ 9 10 11 12 13 14 15 16]]\n"
          ]
        },
        {
          "output_type": "execute_result",
          "data": {
            "text/plain": [
              "(2, 8)"
            ]
          },
          "metadata": {},
          "execution_count": 103
        }
      ]
    },
    {
      "cell_type": "code",
      "source": [
        "arr = np.array([1, 2, 3, 4, 5, 6, 7, 8, 9, 10, 11, 12, 13, 14, 15])\n",
        "print(arr)\n",
        "arr.shape"
      ],
      "metadata": {
        "colab": {
          "base_uri": "https://localhost:8080/"
        },
        "id": "q5M5IFwlUb5x",
        "outputId": "23ed3a57-8b97-4d9e-c70d-b830d9328243"
      },
      "execution_count": 104,
      "outputs": [
        {
          "output_type": "stream",
          "name": "stdout",
          "text": [
            "[ 1  2  3  4  5  6  7  8  9 10 11 12 13 14 15]\n"
          ]
        },
        {
          "output_type": "execute_result",
          "data": {
            "text/plain": [
              "(15,)"
            ]
          },
          "metadata": {},
          "execution_count": 104
        }
      ]
    },
    {
      "cell_type": "code",
      "source": [
        "newarr = arr.reshape(3, 5)\n",
        "print(newarr)\n",
        "newarr.shape"
      ],
      "metadata": {
        "colab": {
          "base_uri": "https://localhost:8080/"
        },
        "id": "jnCyraIzUfm7",
        "outputId": "c111798c-329a-49b2-fdb2-a9bed122ab8f"
      },
      "execution_count": 105,
      "outputs": [
        {
          "output_type": "stream",
          "name": "stdout",
          "text": [
            "[[ 1  2  3  4  5]\n",
            " [ 6  7  8  9 10]\n",
            " [11 12 13 14 15]]\n"
          ]
        },
        {
          "output_type": "execute_result",
          "data": {
            "text/plain": [
              "(3, 5)"
            ]
          },
          "metadata": {},
          "execution_count": 105
        }
      ]
    },
    {
      "cell_type": "code",
      "source": [
        "newarr = arr.reshape(5, 3)\n",
        "print(newarr)\n",
        "newarr.shape"
      ],
      "metadata": {
        "colab": {
          "base_uri": "https://localhost:8080/"
        },
        "id": "gkZb0JeJUkaH",
        "outputId": "9d21cf7a-0efa-4370-8cbe-2db1835a3afa"
      },
      "execution_count": 106,
      "outputs": [
        {
          "output_type": "stream",
          "name": "stdout",
          "text": [
            "[[ 1  2  3]\n",
            " [ 4  5  6]\n",
            " [ 7  8  9]\n",
            " [10 11 12]\n",
            " [13 14 15]]\n"
          ]
        },
        {
          "output_type": "execute_result",
          "data": {
            "text/plain": [
              "(5, 3)"
            ]
          },
          "metadata": {},
          "execution_count": 106
        }
      ]
    },
    {
      "cell_type": "code",
      "source": [
        "arr = np.array([1, 2, 3, 4])\n",
        "\n",
        "for x in arr:\n",
        "  print(x)"
      ],
      "metadata": {
        "colab": {
          "base_uri": "https://localhost:8080/"
        },
        "id": "8QMoHbhF-Hk1",
        "outputId": "72ce38f8-8289-4108-8c96-b14a457103d9"
      },
      "execution_count": 108,
      "outputs": [
        {
          "output_type": "stream",
          "name": "stdout",
          "text": [
            "1\n",
            "2\n",
            "3\n",
            "4\n"
          ]
        }
      ]
    },
    {
      "cell_type": "code",
      "source": [
        "[[1, 2, 3], [4, 5, 6]]"
      ],
      "metadata": {
        "id": "Cq98XRA2k6nU",
        "colab": {
          "base_uri": "https://localhost:8080/"
        },
        "outputId": "93dc253c-b6bb-47c3-bb0e-a748a11b43c8"
      },
      "execution_count": 109,
      "outputs": [
        {
          "output_type": "execute_result",
          "data": {
            "text/plain": [
              "[[1, 2, 3], [4, 5, 6]]"
            ]
          },
          "metadata": {},
          "execution_count": 109
        }
      ]
    },
    {
      "cell_type": "code",
      "source": [
        "arr = np.array([[1, 2, 3], [4, 5, 6]])\n",
        "\n",
        "for x in arr:\n",
        "  print(x)"
      ],
      "metadata": {
        "colab": {
          "base_uri": "https://localhost:8080/"
        },
        "id": "8FqoRlcI-r0D",
        "outputId": "1c40d4e0-c8f9-4b78-baed-f5e26593e744"
      },
      "execution_count": 110,
      "outputs": [
        {
          "output_type": "stream",
          "name": "stdout",
          "text": [
            "[1 2 3]\n",
            "[4 5 6]\n"
          ]
        }
      ]
    },
    {
      "cell_type": "code",
      "source": [
        "arr = np.array([[1, 2, 3], [4, 5, 6]])\n",
        "\n",
        "for x in arr:\n",
        "  for y in x:\n",
        "    print(y)"
      ],
      "metadata": {
        "colab": {
          "base_uri": "https://localhost:8080/"
        },
        "id": "c6jOMVYF-TK7",
        "outputId": "e51e4fc6-8fbc-4b4a-fc7e-eabd573526eb"
      },
      "execution_count": 113,
      "outputs": [
        {
          "output_type": "stream",
          "name": "stdout",
          "text": [
            "1\n",
            "2\n",
            "3\n",
            "4\n",
            "5\n",
            "6\n"
          ]
        }
      ]
    },
    {
      "cell_type": "code",
      "source": [
        "arr1 = np.array([1, 2, 3])\n",
        "\n",
        "arr2 = np.array([4, 5, 6])\n",
        "\n",
        "arr = np.concatenate((arr1, arr2))\n",
        "\n",
        "print(arr)"
      ],
      "metadata": {
        "colab": {
          "base_uri": "https://localhost:8080/"
        },
        "id": "bRCPIYV1-Ysv",
        "outputId": "54f62c4e-36bb-491e-b753-02f5a4de49a9"
      },
      "execution_count": 114,
      "outputs": [
        {
          "output_type": "stream",
          "name": "stdout",
          "text": [
            "[1 2 3 4 5 6]\n"
          ]
        }
      ]
    },
    {
      "cell_type": "code",
      "source": [
        "arr1 = np.array([1, 2, 3])\n",
        "\n",
        "arr2 = np.array([4, 5, 6])\n",
        "\n",
        "arr3 = np.array([7, 8, 9])\n",
        "\n",
        "arr = np.concatenate((arr1, arr2, arr3))\n",
        "\n",
        "print(arr)"
      ],
      "metadata": {
        "colab": {
          "base_uri": "https://localhost:8080/"
        },
        "id": "DZTOfmCDVZte",
        "outputId": "604ae4ec-eeda-4cb7-9bcc-76c91d6b6a0b"
      },
      "execution_count": 115,
      "outputs": [
        {
          "output_type": "stream",
          "name": "stdout",
          "text": [
            "[1 2 3 4 5 6 7 8 9]\n"
          ]
        }
      ]
    },
    {
      "cell_type": "code",
      "source": [
        "arr1 = np.array([1, 2, 3])\n",
        "\n",
        "arr2 = np.array([4, 5, 6])\n",
        "\n",
        "arr3 = np.array([7, 8, 9])\n",
        "\n",
        "\n",
        "arr = np.stack((arr1, arr2, arr3), axis=0)\n",
        "\n",
        "print(arr)"
      ],
      "metadata": {
        "colab": {
          "base_uri": "https://localhost:8080/"
        },
        "id": "STv8lGYoAqyr",
        "outputId": "65fbbf96-c569-4bb8-ae3c-38a42490c402"
      },
      "execution_count": 117,
      "outputs": [
        {
          "output_type": "stream",
          "name": "stdout",
          "text": [
            "[[1 2 3]\n",
            " [4 5 6]\n",
            " [7 8 9]]\n"
          ]
        }
      ]
    },
    {
      "cell_type": "code",
      "source": [
        "arr = np.array([1, 2, 3, 4,\n",
        "                5, 6,7,\n",
        "                8,9,10])\n",
        "\n",
        "newarr = np.array_split(arr, 3)\n",
        "\n",
        "print(newarr)"
      ],
      "metadata": {
        "id": "aN_AI987BC70",
        "colab": {
          "base_uri": "https://localhost:8080/"
        },
        "outputId": "9204f14a-e2c6-4b01-a391-ab160248cd2d"
      },
      "execution_count": 118,
      "outputs": [
        {
          "output_type": "stream",
          "name": "stdout",
          "text": [
            "[array([1, 2, 3, 4]), array([5, 6, 7]), array([ 8,  9, 10])]\n"
          ]
        }
      ]
    },
    {
      "cell_type": "code",
      "source": [
        "arr = np.array([1, 2, 3, 4, 5, 4, 4])\n",
        "\n",
        "x = np.where(arr == 4)\n",
        "\n",
        "print(x)"
      ],
      "metadata": {
        "colab": {
          "base_uri": "https://localhost:8080/"
        },
        "id": "9g9717KuBeZk",
        "outputId": "9920ae81-34a7-4135-b2f3-c33b3ccfebcd"
      },
      "execution_count": 121,
      "outputs": [
        {
          "output_type": "stream",
          "name": "stdout",
          "text": [
            "(array([3, 5, 6]),)\n"
          ]
        }
      ]
    },
    {
      "cell_type": "code",
      "source": [
        "arr = np.array([3, 2, 0, 1])\n",
        "\n",
        "print(np.sort(arr))"
      ],
      "metadata": {
        "colab": {
          "base_uri": "https://localhost:8080/"
        },
        "id": "-kqSRIEqB7CX",
        "outputId": "84040893-4510-42c9-e3eb-5d85f0c5bd4b"
      },
      "execution_count": 122,
      "outputs": [
        {
          "output_type": "stream",
          "name": "stdout",
          "text": [
            "[0 1 2 3]\n"
          ]
        }
      ]
    },
    {
      "cell_type": "code",
      "source": [
        "arr = np.array([4, 3, 2, 0, 1])\n",
        "\n",
        "print(np.sort(arr))"
      ],
      "metadata": {
        "colab": {
          "base_uri": "https://localhost:8080/"
        },
        "id": "uSMPDr9yV5H_",
        "outputId": "f197d710-f401-4795-908f-5b17a039f504"
      },
      "execution_count": 124,
      "outputs": [
        {
          "output_type": "stream",
          "name": "stdout",
          "text": [
            "[0 1 2 3 4]\n"
          ]
        }
      ]
    },
    {
      "cell_type": "code",
      "source": [
        "arr = np.array(['gavava', 'grapes', 'apple'])\n",
        "print(np.sort(arr))"
      ],
      "metadata": {
        "colab": {
          "base_uri": "https://localhost:8080/"
        },
        "id": "fZz7T4lHCkNL",
        "outputId": "30393bff-0df5-4968-a42d-c075d017b12c"
      },
      "execution_count": 126,
      "outputs": [
        {
          "output_type": "stream",
          "name": "stdout",
          "text": [
            "['apple' 'gavava' 'grapes']\n"
          ]
        }
      ]
    },
    {
      "cell_type": "code",
      "source": [
        "arr = np.array([True, False, True])\n",
        "\n",
        "print(np.sort(arr))"
      ],
      "metadata": {
        "colab": {
          "base_uri": "https://localhost:8080/"
        },
        "id": "ExR9j8WyCrbB",
        "outputId": "3c6783fc-896e-4ccd-face-0c2dc0bd4c63"
      },
      "execution_count": 127,
      "outputs": [
        {
          "output_type": "stream",
          "name": "stdout",
          "text": [
            "[False  True  True]\n"
          ]
        }
      ]
    },
    {
      "cell_type": "code",
      "source": [
        "\n",
        "arr = np.array([[3, 2, 4], [5, 0, 1], [8, 9, 7]])\n",
        "\n",
        "print(np.sort(arr))"
      ],
      "metadata": {
        "id": "82rsW9ZEC8x0",
        "outputId": "060e5cdd-86f1-4e88-de00-a8abd107a066",
        "colab": {
          "base_uri": "https://localhost:8080/"
        }
      },
      "execution_count": 129,
      "outputs": [
        {
          "output_type": "stream",
          "name": "stdout",
          "text": [
            "[[2 3 4]\n",
            " [0 1 5]\n",
            " [7 8 9]]\n"
          ]
        }
      ]
    },
    {
      "cell_type": "markdown",
      "source": [
        "# **NUMPY RANDOM**"
      ],
      "metadata": {
        "id": "1XYyCWgG0ucc"
      }
    },
    {
      "cell_type": "code",
      "source": [
        "from numpy import random\n",
        "x = random.randint(200)\n",
        "print(x)"
      ],
      "metadata": {
        "colab": {
          "base_uri": "https://localhost:8080/"
        },
        "id": "XmhsTgzj0xtd",
        "outputId": "eaca1fa9-b7d3-4158-9ec0-9a455bf4050b"
      },
      "execution_count": 131,
      "outputs": [
        {
          "output_type": "stream",
          "name": "stdout",
          "text": [
            "30\n"
          ]
        }
      ]
    },
    {
      "cell_type": "code",
      "source": [
        "# This random is directly being called from Python library\n",
        "import random\n",
        "\n",
        "# This will return any number in between 4 and 16 where 4 is the lower bound and 16 is the upper bound\n",
        "print(random.randint(4, 16))"
      ],
      "metadata": {
        "colab": {
          "base_uri": "https://localhost:8080/"
        },
        "id": "V1Npl5Is07sc",
        "outputId": "a0c8b220-6c31-4838-ac42-4c5e5ace8f4a"
      },
      "execution_count": 135,
      "outputs": [
        {
          "output_type": "stream",
          "name": "stdout",
          "text": [
            "10\n"
          ]
        }
      ]
    },
    {
      "cell_type": "code",
      "source": [
        "from numpy import random\n",
        "\n",
        "# As we use the rand() method we will get float as the returned value. \n",
        "x = random.rand()\n",
        "\n",
        "print(x)"
      ],
      "metadata": {
        "colab": {
          "base_uri": "https://localhost:8080/"
        },
        "id": "ZXIDl8D21Lcw",
        "outputId": "dbba5bc7-f23a-48ca-8f4d-87504deaf85d"
      },
      "execution_count": 136,
      "outputs": [
        {
          "output_type": "stream",
          "name": "stdout",
          "text": [
            "0.1559095129151128\n"
          ]
        }
      ]
    },
    {
      "cell_type": "code",
      "source": [
        "# The randint() method takes a size parameter where you can specify the shape of an array.\n",
        "from numpy import random\n",
        "x=random.randint(200, size=(4))\n",
        "print(x)"
      ],
      "metadata": {
        "colab": {
          "base_uri": "https://localhost:8080/"
        },
        "id": "5Ro443rs1bqa",
        "outputId": "d515a3c9-a266-4340-8b0c-0155a0cfc960"
      },
      "execution_count": 140,
      "outputs": [
        {
          "output_type": "stream",
          "name": "stdout",
          "text": [
            "[181  87  52  46]\n"
          ]
        }
      ]
    },
    {
      "cell_type": "code",
      "source": [
        "from numpy import random\n",
        "x = random.randint(200, size=(3, 5))\n",
        "print(x)"
      ],
      "metadata": {
        "colab": {
          "base_uri": "https://localhost:8080/"
        },
        "id": "aPaCJVbt1pQ1",
        "outputId": "dcaf1c89-c208-4e35-91b2-8437cd10e323"
      },
      "execution_count": 142,
      "outputs": [
        {
          "output_type": "stream",
          "name": "stdout",
          "text": [
            "[[188 147  18 125  67]\n",
            " [ 42   9   0  98 166]\n",
            " [142 158 117  18   0]]\n"
          ]
        }
      ]
    },
    {
      "cell_type": "code",
      "source": [
        "from numpy import random\n",
        "# random.rand(5) will return me an array with size 5 (The total number of elements are going to be 5)\n",
        "x = random.rand(5)\n",
        "print(x)"
      ],
      "metadata": {
        "colab": {
          "base_uri": "https://localhost:8080/"
        },
        "id": "6hKeLY8R1wfn",
        "outputId": "4d5257eb-c362-47a9-ee1f-f80ceedc80a2"
      },
      "execution_count": 143,
      "outputs": [
        {
          "output_type": "stream",
          "name": "stdout",
          "text": [
            "[0.12136132 0.08503401 0.85750151 0.13928291 0.36124754]\n"
          ]
        }
      ]
    },
    {
      "cell_type": "code",
      "source": [
        "from numpy import random\n",
        "# 3 rows and 5 columns\n",
        "# Each row will have 5 float values as elements\n",
        "x = random.rand(3, 5)\n",
        "print(x)"
      ],
      "metadata": {
        "colab": {
          "base_uri": "https://localhost:8080/"
        },
        "id": "hKgiapzV166A",
        "outputId": "52a08ac1-4da2-474a-b9a3-fd3727b7c46c"
      },
      "execution_count": 144,
      "outputs": [
        {
          "output_type": "stream",
          "name": "stdout",
          "text": [
            "[[0.92237026 0.99561485 0.75317716 0.42408845 0.64365531]\n",
            " [0.94399185 0.14455393 0.09361717 0.01482783 0.02515772]\n",
            " [0.02519653 0.71687267 0.55753983 0.22673764 0.23738331]]\n"
          ]
        }
      ]
    },
    {
      "cell_type": "markdown",
      "source": [
        "**Generate Random Number From Array by Choice() method**"
      ],
      "metadata": {
        "id": "3wu69otpXTuj"
      }
    },
    {
      "cell_type": "code",
      "source": [
        "from numpy import random\n",
        "# choose any number from 3, 5, 7, 9 \n",
        "x = random.choice([3, 5, 7, 9,10])\n",
        "print(x)"
      ],
      "metadata": {
        "colab": {
          "base_uri": "https://localhost:8080/"
        },
        "id": "XIBpxF_Q2LEJ",
        "outputId": "5cb63f2f-aae2-446c-81d5-1592a3fbb01f"
      },
      "execution_count": 145,
      "outputs": [
        {
          "output_type": "stream",
          "name": "stdout",
          "text": [
            "10\n"
          ]
        }
      ]
    },
    {
      "cell_type": "code",
      "source": [
        "from numpy import random\n",
        "# choose any number from 3, 5, 7, 9, 10, 11 \n",
        "x = random.choice([3, 5, 7, 9, 10, 11, 12])\n",
        "print(x)"
      ],
      "metadata": {
        "colab": {
          "base_uri": "https://localhost:8080/"
        },
        "id": "PtwCkF-pXeXh",
        "outputId": "4bb5e1de-a8f4-4fcd-aaf3-c96c6193db6a"
      },
      "execution_count": 148,
      "outputs": [
        {
          "output_type": "stream",
          "name": "stdout",
          "text": [
            "7\n"
          ]
        }
      ]
    },
    {
      "cell_type": "code",
      "source": [
        "from numpy import random\n",
        "# If we specify a 2D shape the random.choice() method will arrange the numpy inputs as per the shape\n",
        "# Here, the shape is 2,5 i.e, 2 rows and 5 columns\n",
        "# Hence, numpy will take 3, 5, 7, 9 as the input \n",
        "# Then it will arrange these numbers randomly but keeping in mind that there should be 3 rows and 5 columns   \n",
        "x = random.choice([3, 5, 7, 9], size=(2, 5))\n",
        "print(x)"
      ],
      "metadata": {
        "colab": {
          "base_uri": "https://localhost:8080/"
        },
        "id": "lgrDQw3g2h89",
        "outputId": "45215ec2-69b6-4b94-c9f2-d48211f8a4d6"
      },
      "execution_count": 152,
      "outputs": [
        {
          "output_type": "stream",
          "name": "stdout",
          "text": [
            "[[3 5 5 3 5]\n",
            " [3 7 7 3 3]]\n"
          ]
        }
      ]
    },
    {
      "cell_type": "markdown",
      "source": [
        "# **NUMPY arange**\n",
        "\n",
        "- The **`arange([start,] stop[, step,][, dtype])`** : Returns an array with evenly spaced elements as per the interval. \n",
        "\n",
        "- The interval mentioned is half-opened i.e. [Start, Stop) "
      ],
      "metadata": {
        "id": "AzZOWUzM3_ds"
      }
    },
    {
      "cell_type": "markdown",
      "source": [
        "#### **Very Important**\n",
        "#### **Syntax for numpy arange**\n",
        "`arange([start,] stop[, step,][, dtype])`"
      ],
      "metadata": {
        "id": "rHUy8s5B4QDh"
      }
    },
    {
      "cell_type": "markdown",
      "source": [
        "**Parameters :** \n",
        "\n",
        "- **`start :`** [optional] start of interval range. **By default start = 0**\n",
        "\n",
        "- **`stop  :`** end of interval range\n",
        "\n",
        "- **`step  :`** [optional] step size of interval. **By default step size = 1**,  \n",
        "  - For any output **`out`**, this is the distance between two adjacent values, **`out[i+1] - out[i]`**. \n",
        "\n",
        "- **`dtype :`** type of output array"
      ],
      "metadata": {
        "id": "AwzdtYND4mxr"
      }
    },
    {
      "cell_type": "markdown",
      "source": [
        "**Return:** \n",
        "\n",
        "- Array of evenly spaced values."
      ],
      "metadata": {
        "id": "Ojtfvs-W5Mvm"
      }
    },
    {
      "cell_type": "code",
      "source": [
        "# Python Programming illustrating\n",
        "# numpy.arange method\n",
        "\n",
        "import numpy as np\n",
        "print(\"A\\n\", np.arange(4, 10), \"\\n\")\n",
        "print(\"B\\n\", np.arange(4, 20, 3), \"\\n\")"
      ],
      "metadata": {
        "colab": {
          "base_uri": "https://localhost:8080/"
        },
        "id": "k3M36inZ3DiY",
        "outputId": "4923bff6-ea5c-44c0-968f-c576671c8146"
      },
      "execution_count": 153,
      "outputs": [
        {
          "output_type": "stream",
          "name": "stdout",
          "text": [
            "A\n",
            " [4 5 6 7 8 9] \n",
            "\n",
            "B\n",
            " [ 4  7 10 13 16 19] \n",
            "\n"
          ]
        }
      ]
    },
    {
      "cell_type": "code",
      "source": [
        "print(np.arange(0, 1, 0.1)) # From 1 to 2 the numbers are increasing by 0.1"
      ],
      "metadata": {
        "colab": {
          "base_uri": "https://localhost:8080/"
        },
        "id": "DGrf7Vpn5WYB",
        "outputId": "dd63307e-3ce7-4c98-96b5-c8a0a7c79eef"
      },
      "execution_count": 154,
      "outputs": [
        {
          "output_type": "stream",
          "name": "stdout",
          "text": [
            "[0.  0.1 0.2 0.3 0.4 0.5 0.6 0.7 0.8 0.9]\n"
          ]
        }
      ]
    },
    {
      "cell_type": "markdown",
      "source": [
        "# **numpy.linspace()**"
      ],
      "metadata": {
        "id": "-b7W5dGk55Dk"
      }
    },
    {
      "cell_type": "code",
      "source": [
        "import numpy as np\n",
        "# restep set to True\n",
        "print(\"B\\n\", np.linspace(2.0, 3.0,num=10), \"\\n\")"
      ],
      "metadata": {
        "colab": {
          "base_uri": "https://localhost:8080/"
        },
        "id": "Kw1jaBLi5vnE",
        "outputId": "d72e823d-392d-4c00-e47c-6e881565d875"
      },
      "execution_count": 155,
      "outputs": [
        {
          "output_type": "stream",
          "name": "stdout",
          "text": [
            "B\n",
            " [2.         2.11111111 2.22222222 2.33333333 2.44444444 2.55555556\n",
            " 2.66666667 2.77777778 2.88888889 3.        ] \n",
            "\n"
          ]
        }
      ]
    },
    {
      "cell_type": "code",
      "source": [
        "np.zeros(10)"
      ],
      "metadata": {
        "colab": {
          "base_uri": "https://localhost:8080/"
        },
        "id": "MiahZ4uhBUqU",
        "outputId": "d68af0f6-e876-44a3-dfdc-1417508f42ad"
      },
      "execution_count": 156,
      "outputs": [
        {
          "output_type": "execute_result",
          "data": {
            "text/plain": [
              "array([0., 0., 0., 0., 0., 0., 0., 0., 0., 0.])"
            ]
          },
          "metadata": {},
          "execution_count": 156
        }
      ]
    },
    {
      "cell_type": "code",
      "source": [
        "np.ones(10)"
      ],
      "metadata": {
        "colab": {
          "base_uri": "https://localhost:8080/"
        },
        "id": "z0pl7wmrBXD5",
        "outputId": "5737349d-21fd-43a9-a569-1c5680b499c2"
      },
      "execution_count": 157,
      "outputs": [
        {
          "output_type": "execute_result",
          "data": {
            "text/plain": [
              "array([1., 1., 1., 1., 1., 1., 1., 1., 1., 1.])"
            ]
          },
          "metadata": {},
          "execution_count": 157
        }
      ]
    },
    {
      "cell_type": "code",
      "source": [
        "import numpy as geek\n",
        "import pylab as p\n",
        " \n",
        "# Start = 0\n",
        "# End = 2\n",
        "# Samples to generate = 10\n",
        "x1 = np.linspace(0, 2, 10, endpoint = True)\n",
        "y1 = np.ones(10)\n",
        " \n",
        "p.plot(x1, y1, '*')\n",
        "p.xlim(-0.2, 1.8)"
      ],
      "metadata": {
        "colab": {
          "base_uri": "https://localhost:8080/",
          "height": 282
        },
        "id": "A3uHlbU-I_qR",
        "outputId": "71cf2bac-84e7-4bd9-9119-1b1b7c0a62c7"
      },
      "execution_count": 158,
      "outputs": [
        {
          "output_type": "execute_result",
          "data": {
            "text/plain": [
              "(-0.2, 1.8)"
            ]
          },
          "metadata": {},
          "execution_count": 158
        },
        {
          "output_type": "display_data",
          "data": {
            "text/plain": [
              "<Figure size 432x288 with 1 Axes>"
            ],
            "image/png": "[encoded data removed]"
          },
          "metadata": {
            "needs_background": "light"
          }
        }
      ]
    },
    {
      "cell_type": "code",
      "source": [
        "x1"
      ],
      "metadata": {
        "colab": {
          "base_uri": "https://localhost:8080/"
        },
        "id": "YwRz2MOdJzMa",
        "outputId": "58265f55-0530-4cb6-9997-6bb6e776fb79"
      },
      "execution_count": 159,
      "outputs": [
        {
          "output_type": "execute_result",
          "data": {
            "text/plain": [
              "array([0.        , 0.22222222, 0.44444444, 0.66666667, 0.88888889,\n",
              "       1.11111111, 1.33333333, 1.55555556, 1.77777778, 2.        ])"
            ]
          },
          "metadata": {},
          "execution_count": 159
        }
      ]
    },
    {
      "cell_type": "code",
      "source": [
        "# Start = 2\n",
        "# End = 5\n",
        "# Samples to generate = 11\n",
        "x2 = np.linspace(0, 3, 11, endpoint = True)\n",
        "y2 = np.ones(11)\n",
        " \n",
        "p.plot(x2, y2, '+')\n",
        "p.xlim(-0.3, 3.4)"
      ],
      "metadata": {
        "colab": {
          "base_uri": "https://localhost:8080/",
          "height": 282
        },
        "id": "aIvK35HLYwij",
        "outputId": "e07ecd39-dea6-4f55-e8ed-84ebf2fb938c"
      },
      "execution_count": 168,
      "outputs": [
        {
          "output_type": "execute_result",
          "data": {
            "text/plain": [
              "(-0.3, 3.4)"
            ]
          },
          "metadata": {},
          "execution_count": 168
        },
        {
          "output_type": "display_data",
          "data": {
            "text/plain": [
              "<Figure size 432x288 with 1 Axes>"
            ],
            "image/png": "[encoded data removed]"
          },
          "metadata": {
            "needs_background": "light"
          }
        }
      ]
    },
    {
      "cell_type": "code",
      "source": [
        "# Python Program illustrating\n",
        "# numpy.reshape() method\n",
        "\n",
        "\n",
        "\n",
        "\n",
        "\n",
        "# shape array with 4 rows and 2 columns\n",
        "array3 = geek.arange(8).reshape(4, 2)\n",
        "print(\"\\narray reshaped with 2 rows and 4 columns : \\n\",\n",
        "\tarray3)\n",
        "\n",
        "\n"
      ],
      "metadata": {
        "id": "S_Ecd-J2KAsB",
        "colab": {
          "base_uri": "https://localhost:8080/"
        },
        "outputId": "2bb07d4f-40a1-43b2-ab6f-47ea826d82d3"
      },
      "execution_count": 169,
      "outputs": [
        {
          "output_type": "stream",
          "name": "stdout",
          "text": [
            "\n",
            "array reshaped with 2 rows and 4 columns : \n",
            " [[0 1]\n",
            " [2 3]\n",
            " [4 5]\n",
            " [6 7]]\n"
          ]
        }
      ]
    },
    {
      "cell_type": "code",
      "source": [
        "import numpy as geek\n",
        "\n",
        "# array = geek.arrange(8)\n",
        "# The 'numpy' module has no attribute 'arrange'\n",
        "array1 = geek.arange(8)\n",
        "print(\"Original array : \\n\", array1)"
      ],
      "metadata": {
        "colab": {
          "base_uri": "https://localhost:8080/"
        },
        "id": "qWFI6ud-MT3p",
        "outputId": "d55dddd8-82e5-47db-ecea-3ce96b12465e"
      },
      "execution_count": 170,
      "outputs": [
        {
          "output_type": "stream",
          "name": "stdout",
          "text": [
            "Original array : \n",
            " [0 1 2 3 4 5 6 7]\n"
          ]
        }
      ]
    },
    {
      "cell_type": "code",
      "source": [
        "# shape array with 2 rows and 4 columns\n",
        "array2 = geek.arange(8).reshape(2, 4)\n",
        "print(\"\\narray reshaped with 2 rows and 4 columns : \\n\",\n",
        "\tarray2)"
      ],
      "metadata": {
        "colab": {
          "base_uri": "https://localhost:8080/"
        },
        "id": "fkOBwjxCMVcA",
        "outputId": "5da71deb-9062-411f-dd81-0bab8f7c8c44"
      },
      "execution_count": 171,
      "outputs": [
        {
          "output_type": "stream",
          "name": "stdout",
          "text": [
            "\n",
            "array reshaped with 2 rows and 4 columns : \n",
            " [[0 1 2 3]\n",
            " [4 5 6 7]]\n"
          ]
        }
      ]
    },
    {
      "cell_type": "code",
      "source": [
        "# Constructs 3D array\n",
        "import numpy as geek\n",
        "array4 = geek.arange(8).reshape(2, 2, 2)\n",
        "print(\"\\nOriginal array reshaped to 3D : \\n\",\n",
        "\tarray4)"
      ],
      "metadata": {
        "colab": {
          "base_uri": "https://localhost:8080/"
        },
        "id": "DtxPhfXcMZoF",
        "outputId": "f6bf6e54-3f42-49d9-9a4b-f169755c8229"
      },
      "execution_count": 172,
      "outputs": [
        {
          "output_type": "stream",
          "name": "stdout",
          "text": [
            "\n",
            "Original array reshaped to 3D : \n",
            " [[[0 1]\n",
            "  [2 3]]\n",
            "\n",
            " [[4 5]\n",
            "  [6 7]]]\n"
          ]
        }
      ]
    }
  ]
}